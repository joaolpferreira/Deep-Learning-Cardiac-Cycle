{
  "cells": [
    {
      "cell_type": "markdown",
      "metadata": {
        "id": "b7d5862e"
      },
      "source": [
        "# Usar um pipeline para ler e processar um conjunto de ficheiros e usar esse mesmo pipeline como 'conjunto de treino' #"
      ],
      "id": "b7d5862e"
    },
    {
      "cell_type": "code",
      "execution_count": 1,
      "metadata": {
        "id": "4d547269"
      },
      "outputs": [],
      "source": [
        "import glob\n",
        "import numpy as np\n",
        "import tensorflow as tf\n",
        "import numpy"
      ],
      "id": "4d547269"
    },
    {
      "cell_type": "code",
      "execution_count": 5,
      "metadata": {
        "id": "d273a6f0"
      },
      "outputs": [],
      "source": [
        "import matplotlib.pyplot as plt"
      ],
      "id": "d273a6f0"
    },
    {
      "cell_type": "code",
      "source": [
        "from google.colab import drive\n",
        "drive.mount('/content/drive')\n",
        "\n",
        "dir = '/content/drive/MyDrive/ADNE/Dados/trainAlunos/'\n",
        "list_npy_files = glob.glob(dir + '*.npy')\n",
        "train_dataset = tf.data.Dataset.from_tensor_slices(list_npy_files)\n",
        "\n",
        "dir = '/content/drive/MyDrive/ADNE/Dados/validacaoAlunos/'\n",
        "list_npy_files = glob.glob(dir + '*.npy')\n",
        "validation_dataset = tf.data.Dataset.from_tensor_slices(list_npy_files)\n",
        "\n",
        "dirteste = '/content/drive/MyDrive/ADNE/Dados/testeAlunos/'\n",
        "list_npy_files = glob.glob(dirteste + '*.npy')\n",
        "test_dataset = tf.data.Dataset.from_tensor_slices(list_npy_files)\n"
      ],
      "metadata": {
        "colab": {
          "base_uri": "https://localhost:8080/"
        },
        "id": "jPFlyPD2Nvm1",
        "outputId": "9d397a6d-9d29-4ba6-d787-6e574cf6af45"
      },
      "id": "jPFlyPD2Nvm1",
      "execution_count": 2,
      "outputs": [
        {
          "output_type": "stream",
          "name": "stdout",
          "text": [
            "Mounted at /content/drive\n"
          ]
        }
      ]
    },
    {
      "cell_type": "code",
      "execution_count": 3,
      "metadata": {
        "id": "6ce321bf"
      },
      "outputs": [],
      "source": [
        "def read_npy(fname):\n",
        "    \"\"\"fname should be a npy file\"\"\"\n",
        "    fname = fname.decode()\n",
        "    recData = np.load(fname)\n",
        "    return recData.astype(np.float32)"
      ],
      "id": "6ce321bf"
    },
    {
      "cell_type": "code",
      "execution_count": 4,
      "metadata": {
        "id": "iSGK1qmCQLGq"
      },
      "outputs": [],
      "source": [
        "train_dataset = train_dataset.map(lambda x: tf.numpy_function(read_npy, [x], [tf.float32]))\n",
        "validation_dataset = validation_dataset.map(lambda x: tf.numpy_function(read_npy, [x], [tf.float32]))\n",
        "test_dataset = test_dataset.map(lambda x: tf.numpy_function(read_npy, [x], [tf.float32]))\n",
        "\n",
        "train_dataset_full = train_dataset\n",
        "validation_dataset_full = validation_dataset"
      ],
      "id": "iSGK1qmCQLGq"
    },
    {
      "cell_type": "code",
      "execution_count": 6,
      "metadata": {
        "id": "kqki5BNsZHUU"
      },
      "outputs": [],
      "source": [
        "L=2000\n",
        "def randomExtract(x):\n",
        "    length = tf.shape(x)[1]\n",
        "    init = tf.random.uniform([], minval=0,maxval=length-L,dtype=tf.dtypes.int32)\n",
        "    return x[:, init:init+L]"
      ],
      "id": "kqki5BNsZHUU"
    },
    {
      "cell_type": "code",
      "execution_count": 7,
      "metadata": {
        "id": "xlBl5HbCfoqn"
      },
      "outputs": [],
      "source": [
        "\n",
        "dataset_train= train_dataset.map(lambda x: randomExtract(x))\n",
        "dataset_validation= validation_dataset.map(lambda x: randomExtract(x))\n",
        "#dataset_test= test_dataset.map(lambda x: randomExtract(x))\n",
        "\n",
        "\n",
        "\n"
      ],
      "id": "xlBl5HbCfoqn"
    },
    {
      "cell_type": "code",
      "execution_count": 8,
      "metadata": {
        "id": "1of5HNvQlbqQ"
      },
      "outputs": [],
      "source": [
        "split_train=dataset_train.map(lambda x: (tf.math.abs(tf.signal.stft(x[0], 256, 128)),x[1]))\n",
        "split_val=dataset_validation.map(lambda x: (tf.math.abs(tf.signal.stft(x[0], 256, 128)),x[1]))\n",
        "\n",
        "split_test=test_dataset.map(lambda x: ((tf.shape(x)[1],tf.math.abs(tf.signal.stft(x[0], 64, 32))),x[1]))\n",
        "\n",
        "split_train_full=train_dataset_full.map(lambda x: ((tf.shape(x)[1],tf.math.abs(tf.signal.stft(x[0], 64, 32))),x[1]))\n",
        "split_val_full=validation_dataset_full.map(lambda x: ((tf.shape(x)[1],tf.math.abs(tf.signal.stft(x[0], 64, 32))),x[1]))\n"
      ],
      "id": "1of5HNvQlbqQ"
    },
    {
      "cell_type": "code",
      "execution_count": 9,
      "metadata": {
        "id": "dReyjRC6rWSL"
      },
      "outputs": [],
      "source": [
        "shapes = (([], tf.TensorShape([None,33])), [None])\n",
        "\n",
        "train_data=split_train.batch(250)\n",
        "val_data=split_val.batch(250)\n",
        "\n",
        "test_data=split_test.padded_batch(1, shapes)\n",
        "\n",
        "train_data_full = split_train_full.padded_batch(50, shapes)\n",
        "val_data_full=split_val_full.padded_batch(50, shapes)"
      ],
      "id": "dReyjRC6rWSL"
    },
    {
      "cell_type": "markdown",
      "source": [
        "# **FEED FOWARD**"
      ],
      "metadata": {
        "id": "LQCH0VYdWA8d"
      },
      "id": "LQCH0VYdWA8d"
    },
    {
      "cell_type": "code",
      "source": [
        "import keras\n",
        "from tensorflow.keras.utils import plot_model\n",
        "from tensorflow.keras.layers import BatchNormalization,Conv2D, Conv1D,MaxPooling1D, TimeDistributed, Concatenate\n",
        "from tensorflow.keras.layers import Activation, Flatten, Dropout, Dense, Reshape, UpSampling1D, Input\n",
        "from tensorflow.keras.optimizers import SGD, Adam\n",
        "\n",
        "model = keras.models.Sequential()\n",
        "\n",
        "model.add(Flatten(input_shape=(14,129)))\n",
        "model.add(Dense(4000, activation='relu'))\n",
        "model.add(BatchNormalization())\n",
        "model.add(Dense(1000, activation='relu'))\n",
        "model.add(BatchNormalization())\n",
        "\n",
        "model.add(Reshape((200,5)))\n",
        "model.add(UpSampling1D(size=10))\n",
        "model.add(Dropout(0.2))\n",
        "model.add(Activation(\"softmax\"))\n",
        "\n",
        "NUM_EPOCHS = 200\n",
        "#INIT_LR = 0.0001\n",
        "#opt = SGD(nesterov=False,learning_rate=INIT_LR, momentum=0.9, decay=.1)\n",
        "opt=Adam()\n",
        "model.compile(metrics = ['sparse_categorical_accuracy'], loss=tf.keras.losses.SparseCategoricalCrossentropy(), optimizer=opt)\n",
        "\n",
        "#model.summary()\n",
        "plot_model(model, to_file='model_FF.png', show_shapes=True)\n",
        "\n",
        "history = model.fit(train_data, validation_data=val_data, epochs=NUM_EPOCHS)\n",
        "\n",
        "model.summary()\n"
      ],
      "metadata": {
        "id": "Pf5TUR15Wfoq",
        "colab": {
          "base_uri": "https://localhost:8080/"
        },
        "outputId": "c1c56362-8a9e-4975-d412-067daa630e81"
      },
      "id": "Pf5TUR15Wfoq",
      "execution_count": null,
      "outputs": [
        {
          "output_type": "stream",
          "name": "stdout",
          "text": [
            "Epoch 1/200\n",
            "10/10 [==============================] - 522s 52s/step - loss: 1.5438 - sparse_categorical_accuracy: 0.3848 - val_loss: 5.9856 - val_sparse_categorical_accuracy: 0.2150\n",
            "Epoch 2/200\n",
            "10/10 [==============================] - 7s 739ms/step - loss: 1.2772 - sparse_categorical_accuracy: 0.5344 - val_loss: 3.4857 - val_sparse_categorical_accuracy: 0.3275\n",
            "Epoch 3/200\n",
            "10/10 [==============================] - 7s 678ms/step - loss: 1.1580 - sparse_categorical_accuracy: 0.5945 - val_loss: 2.0639 - val_sparse_categorical_accuracy: 0.4973\n",
            "Epoch 4/200\n",
            "10/10 [==============================] - 7s 694ms/step - loss: 1.1128 - sparse_categorical_accuracy: 0.6076 - val_loss: 1.2476 - val_sparse_categorical_accuracy: 0.6173\n",
            "Epoch 5/200\n",
            "10/10 [==============================] - 7s 677ms/step - loss: 1.0758 - sparse_categorical_accuracy: 0.6192 - val_loss: 1.0824 - val_sparse_categorical_accuracy: 0.6593\n",
            "Epoch 6/200\n",
            "10/10 [==============================] - 7s 685ms/step - loss: 1.0401 - sparse_categorical_accuracy: 0.6348 - val_loss: 1.0650 - val_sparse_categorical_accuracy: 0.6678\n",
            "Epoch 7/200\n",
            "10/10 [==============================] - 7s 680ms/step - loss: 1.0352 - sparse_categorical_accuracy: 0.6350 - val_loss: 0.9218 - val_sparse_categorical_accuracy: 0.7254\n",
            "Epoch 8/200\n",
            "10/10 [==============================] - 7s 674ms/step - loss: 1.0126 - sparse_categorical_accuracy: 0.6420 - val_loss: 0.8829 - val_sparse_categorical_accuracy: 0.7331\n",
            "Epoch 9/200\n",
            "10/10 [==============================] - 7s 680ms/step - loss: 0.9947 - sparse_categorical_accuracy: 0.6500 - val_loss: 0.8964 - val_sparse_categorical_accuracy: 0.7251\n",
            "Epoch 10/200\n",
            "10/10 [==============================] - 7s 692ms/step - loss: 0.9953 - sparse_categorical_accuracy: 0.6478 - val_loss: 0.8856 - val_sparse_categorical_accuracy: 0.7270\n",
            "Epoch 11/200\n",
            "10/10 [==============================] - 7s 685ms/step - loss: 0.9898 - sparse_categorical_accuracy: 0.6485 - val_loss: 0.8888 - val_sparse_categorical_accuracy: 0.7282\n",
            "Epoch 12/200\n",
            "10/10 [==============================] - 7s 683ms/step - loss: 0.9748 - sparse_categorical_accuracy: 0.6510 - val_loss: 0.8614 - val_sparse_categorical_accuracy: 0.7437\n",
            "Epoch 13/200\n",
            "10/10 [==============================] - 7s 693ms/step - loss: 0.9613 - sparse_categorical_accuracy: 0.6562 - val_loss: 0.8755 - val_sparse_categorical_accuracy: 0.7335\n",
            "Epoch 14/200\n",
            "10/10 [==============================] - 7s 688ms/step - loss: 0.9572 - sparse_categorical_accuracy: 0.6617 - val_loss: 0.8356 - val_sparse_categorical_accuracy: 0.7564\n",
            "Epoch 15/200\n",
            "10/10 [==============================] - 7s 680ms/step - loss: 0.9414 - sparse_categorical_accuracy: 0.6616 - val_loss: 0.8468 - val_sparse_categorical_accuracy: 0.7473\n",
            "Epoch 16/200\n",
            "10/10 [==============================] - 7s 669ms/step - loss: 0.9324 - sparse_categorical_accuracy: 0.6667 - val_loss: 0.8535 - val_sparse_categorical_accuracy: 0.7453\n",
            "Epoch 17/200\n",
            "10/10 [==============================] - 7s 681ms/step - loss: 0.9233 - sparse_categorical_accuracy: 0.6688 - val_loss: 0.8341 - val_sparse_categorical_accuracy: 0.7482\n",
            "Epoch 18/200\n",
            "10/10 [==============================] - 7s 670ms/step - loss: 0.9375 - sparse_categorical_accuracy: 0.6610 - val_loss: 0.8667 - val_sparse_categorical_accuracy: 0.7343\n",
            "Epoch 19/200\n",
            "10/10 [==============================] - 7s 671ms/step - loss: 0.9283 - sparse_categorical_accuracy: 0.6610 - val_loss: 0.8446 - val_sparse_categorical_accuracy: 0.7434\n",
            "Epoch 20/200\n",
            "10/10 [==============================] - 7s 671ms/step - loss: 0.9181 - sparse_categorical_accuracy: 0.6676 - val_loss: 0.7955 - val_sparse_categorical_accuracy: 0.7701\n",
            "Epoch 21/200\n",
            "10/10 [==============================] - 7s 680ms/step - loss: 0.9091 - sparse_categorical_accuracy: 0.6667 - val_loss: 0.8300 - val_sparse_categorical_accuracy: 0.7508\n",
            "Epoch 22/200\n",
            "10/10 [==============================] - 7s 667ms/step - loss: 0.9050 - sparse_categorical_accuracy: 0.6689 - val_loss: 0.8039 - val_sparse_categorical_accuracy: 0.7527\n",
            "Epoch 23/200\n",
            "10/10 [==============================] - 7s 665ms/step - loss: 0.9072 - sparse_categorical_accuracy: 0.6661 - val_loss: 0.8074 - val_sparse_categorical_accuracy: 0.7506\n",
            "Epoch 24/200\n",
            "10/10 [==============================] - 7s 661ms/step - loss: 0.9053 - sparse_categorical_accuracy: 0.6652 - val_loss: 0.8113 - val_sparse_categorical_accuracy: 0.7425\n",
            "Epoch 25/200\n",
            "10/10 [==============================] - 7s 670ms/step - loss: 0.8871 - sparse_categorical_accuracy: 0.6756 - val_loss: 0.8197 - val_sparse_categorical_accuracy: 0.7526\n",
            "Epoch 26/200\n",
            "10/10 [==============================] - 7s 662ms/step - loss: 0.8902 - sparse_categorical_accuracy: 0.6701 - val_loss: 0.7874 - val_sparse_categorical_accuracy: 0.7653\n",
            "Epoch 27/200\n",
            "10/10 [==============================] - 7s 664ms/step - loss: 0.8737 - sparse_categorical_accuracy: 0.6768 - val_loss: 0.7923 - val_sparse_categorical_accuracy: 0.7623\n",
            "Epoch 28/200\n",
            "10/10 [==============================] - 7s 664ms/step - loss: 0.8777 - sparse_categorical_accuracy: 0.6737 - val_loss: 0.8319 - val_sparse_categorical_accuracy: 0.7507\n",
            "Epoch 29/200\n",
            "10/10 [==============================] - 7s 720ms/step - loss: 0.8772 - sparse_categorical_accuracy: 0.6754 - val_loss: 0.7933 - val_sparse_categorical_accuracy: 0.7624\n",
            "Epoch 30/200\n",
            "10/10 [==============================] - 7s 672ms/step - loss: 0.8669 - sparse_categorical_accuracy: 0.6765 - val_loss: 0.7559 - val_sparse_categorical_accuracy: 0.7800\n",
            "Epoch 31/200\n",
            "10/10 [==============================] - 7s 686ms/step - loss: 0.8643 - sparse_categorical_accuracy: 0.6785 - val_loss: 0.7681 - val_sparse_categorical_accuracy: 0.7765\n",
            "Epoch 32/200\n",
            "10/10 [==============================] - 7s 677ms/step - loss: 0.8622 - sparse_categorical_accuracy: 0.6797 - val_loss: 0.8094 - val_sparse_categorical_accuracy: 0.7595\n",
            "Epoch 33/200\n",
            "10/10 [==============================] - 7s 666ms/step - loss: 0.8616 - sparse_categorical_accuracy: 0.6792 - val_loss: 0.8112 - val_sparse_categorical_accuracy: 0.7431\n",
            "Epoch 34/200\n",
            "10/10 [==============================] - 7s 664ms/step - loss: 0.8604 - sparse_categorical_accuracy: 0.6783 - val_loss: 0.7743 - val_sparse_categorical_accuracy: 0.7760\n",
            "Epoch 35/200\n",
            "10/10 [==============================] - 7s 663ms/step - loss: 0.8554 - sparse_categorical_accuracy: 0.6799 - val_loss: 0.8169 - val_sparse_categorical_accuracy: 0.7611\n",
            "Epoch 36/200\n",
            "10/10 [==============================] - 6s 654ms/step - loss: 0.8618 - sparse_categorical_accuracy: 0.6756 - val_loss: 0.7821 - val_sparse_categorical_accuracy: 0.7658\n",
            "Epoch 37/200\n",
            "10/10 [==============================] - 7s 669ms/step - loss: 0.8447 - sparse_categorical_accuracy: 0.6807 - val_loss: 0.7751 - val_sparse_categorical_accuracy: 0.7667\n",
            "Epoch 38/200\n",
            "10/10 [==============================] - 7s 664ms/step - loss: 0.8355 - sparse_categorical_accuracy: 0.6857 - val_loss: 0.7645 - val_sparse_categorical_accuracy: 0.7604\n",
            "Epoch 39/200\n",
            "10/10 [==============================] - 7s 662ms/step - loss: 0.8435 - sparse_categorical_accuracy: 0.6815 - val_loss: 0.7800 - val_sparse_categorical_accuracy: 0.7710\n",
            "Epoch 40/200\n",
            "10/10 [==============================] - 6s 657ms/step - loss: 0.8312 - sparse_categorical_accuracy: 0.6892 - val_loss: 0.7799 - val_sparse_categorical_accuracy: 0.7681\n",
            "Epoch 41/200\n",
            "10/10 [==============================] - 6s 656ms/step - loss: 0.8386 - sparse_categorical_accuracy: 0.6813 - val_loss: 0.7979 - val_sparse_categorical_accuracy: 0.7438\n",
            "Epoch 42/200\n",
            "10/10 [==============================] - 7s 660ms/step - loss: 0.8292 - sparse_categorical_accuracy: 0.6845 - val_loss: 0.7711 - val_sparse_categorical_accuracy: 0.7606\n",
            "Epoch 43/200\n",
            "10/10 [==============================] - 7s 658ms/step - loss: 0.8353 - sparse_categorical_accuracy: 0.6855 - val_loss: 0.7817 - val_sparse_categorical_accuracy: 0.7558\n",
            "Epoch 44/200\n",
            "10/10 [==============================] - 7s 664ms/step - loss: 0.8375 - sparse_categorical_accuracy: 0.6810 - val_loss: 0.7704 - val_sparse_categorical_accuracy: 0.7578\n",
            "Epoch 45/200\n",
            "10/10 [==============================] - 7s 665ms/step - loss: 0.8293 - sparse_categorical_accuracy: 0.6826 - val_loss: 0.7259 - val_sparse_categorical_accuracy: 0.7834\n",
            "Epoch 46/200\n",
            "10/10 [==============================] - 7s 679ms/step - loss: 0.8128 - sparse_categorical_accuracy: 0.6926 - val_loss: 0.7492 - val_sparse_categorical_accuracy: 0.7734\n",
            "Epoch 47/200\n",
            "10/10 [==============================] - 7s 680ms/step - loss: 0.8217 - sparse_categorical_accuracy: 0.6866 - val_loss: 0.7225 - val_sparse_categorical_accuracy: 0.7776\n",
            "Epoch 48/200\n",
            "10/10 [==============================] - 7s 668ms/step - loss: 0.8179 - sparse_categorical_accuracy: 0.6867 - val_loss: 0.7422 - val_sparse_categorical_accuracy: 0.7837\n",
            "Epoch 49/200\n",
            "10/10 [==============================] - 7s 669ms/step - loss: 0.8101 - sparse_categorical_accuracy: 0.6893 - val_loss: 0.7259 - val_sparse_categorical_accuracy: 0.7928\n",
            "Epoch 50/200\n",
            "10/10 [==============================] - 7s 666ms/step - loss: 0.7998 - sparse_categorical_accuracy: 0.6955 - val_loss: 0.7400 - val_sparse_categorical_accuracy: 0.7756\n",
            "Epoch 51/200\n",
            "10/10 [==============================] - 7s 666ms/step - loss: 0.8076 - sparse_categorical_accuracy: 0.6908 - val_loss: 0.7196 - val_sparse_categorical_accuracy: 0.7965\n",
            "Epoch 52/200\n",
            "10/10 [==============================] - 7s 677ms/step - loss: 0.8035 - sparse_categorical_accuracy: 0.6906 - val_loss: 0.7802 - val_sparse_categorical_accuracy: 0.7650\n",
            "Epoch 53/200\n",
            "10/10 [==============================] - 7s 669ms/step - loss: 0.7973 - sparse_categorical_accuracy: 0.6929 - val_loss: 0.7266 - val_sparse_categorical_accuracy: 0.7793\n",
            "Epoch 54/200\n",
            "10/10 [==============================] - 7s 672ms/step - loss: 0.8170 - sparse_categorical_accuracy: 0.6851 - val_loss: 0.7652 - val_sparse_categorical_accuracy: 0.7702\n",
            "Epoch 55/200\n",
            "10/10 [==============================] - 7s 678ms/step - loss: 0.8117 - sparse_categorical_accuracy: 0.6839 - val_loss: 0.7403 - val_sparse_categorical_accuracy: 0.7733\n",
            "Epoch 56/200\n",
            "10/10 [==============================] - 7s 666ms/step - loss: 0.7950 - sparse_categorical_accuracy: 0.6943 - val_loss: 0.7619 - val_sparse_categorical_accuracy: 0.7714\n",
            "Epoch 57/200\n",
            "10/10 [==============================] - 7s 723ms/step - loss: 0.8160 - sparse_categorical_accuracy: 0.6857 - val_loss: 0.7260 - val_sparse_categorical_accuracy: 0.7767\n",
            "Epoch 58/200\n",
            "10/10 [==============================] - 7s 666ms/step - loss: 0.7892 - sparse_categorical_accuracy: 0.6961 - val_loss: 0.7402 - val_sparse_categorical_accuracy: 0.7723\n",
            "Epoch 59/200\n",
            "10/10 [==============================] - 7s 669ms/step - loss: 0.8034 - sparse_categorical_accuracy: 0.6906 - val_loss: 0.7510 - val_sparse_categorical_accuracy: 0.7616\n",
            "Epoch 60/200\n",
            "10/10 [==============================] - 7s 660ms/step - loss: 0.7952 - sparse_categorical_accuracy: 0.6952 - val_loss: 0.7287 - val_sparse_categorical_accuracy: 0.7812\n",
            "Epoch 61/200\n",
            "10/10 [==============================] - 7s 674ms/step - loss: 0.7970 - sparse_categorical_accuracy: 0.6923 - val_loss: 0.7436 - val_sparse_categorical_accuracy: 0.7767\n",
            "Epoch 62/200\n",
            "10/10 [==============================] - 7s 669ms/step - loss: 0.7933 - sparse_categorical_accuracy: 0.6942 - val_loss: 0.7638 - val_sparse_categorical_accuracy: 0.7600\n",
            "Epoch 63/200\n",
            "10/10 [==============================] - 7s 662ms/step - loss: 0.8034 - sparse_categorical_accuracy: 0.6862 - val_loss: 0.7473 - val_sparse_categorical_accuracy: 0.7797\n",
            "Epoch 64/200\n",
            "10/10 [==============================] - 7s 665ms/step - loss: 0.8067 - sparse_categorical_accuracy: 0.6881 - val_loss: 0.6725 - val_sparse_categorical_accuracy: 0.7947\n",
            "Epoch 65/200\n",
            "10/10 [==============================] - 7s 672ms/step - loss: 0.7802 - sparse_categorical_accuracy: 0.6982 - val_loss: 0.7131 - val_sparse_categorical_accuracy: 0.7970\n",
            "Epoch 66/200\n",
            "10/10 [==============================] - 7s 660ms/step - loss: 0.8077 - sparse_categorical_accuracy: 0.6887 - val_loss: 0.7019 - val_sparse_categorical_accuracy: 0.7889\n",
            "Epoch 67/200\n",
            "10/10 [==============================] - 7s 664ms/step - loss: 0.7933 - sparse_categorical_accuracy: 0.6941 - val_loss: 0.7051 - val_sparse_categorical_accuracy: 0.7832\n",
            "Epoch 68/200\n",
            "10/10 [==============================] - 7s 699ms/step - loss: 0.7819 - sparse_categorical_accuracy: 0.6961 - val_loss: 0.7189 - val_sparse_categorical_accuracy: 0.7718\n",
            "Epoch 69/200\n",
            "10/10 [==============================] - 7s 686ms/step - loss: 0.7754 - sparse_categorical_accuracy: 0.6997 - val_loss: 0.7293 - val_sparse_categorical_accuracy: 0.7700\n",
            "Epoch 70/200\n",
            "10/10 [==============================] - 7s 664ms/step - loss: 0.7816 - sparse_categorical_accuracy: 0.6951 - val_loss: 0.6726 - val_sparse_categorical_accuracy: 0.7929\n",
            "Epoch 71/200\n",
            "10/10 [==============================] - 7s 659ms/step - loss: 0.7667 - sparse_categorical_accuracy: 0.7043 - val_loss: 0.7114 - val_sparse_categorical_accuracy: 0.7759\n",
            "Epoch 72/200\n",
            "10/10 [==============================] - 7s 672ms/step - loss: 0.7909 - sparse_categorical_accuracy: 0.6914 - val_loss: 0.7288 - val_sparse_categorical_accuracy: 0.7695\n",
            "Epoch 73/200\n",
            "10/10 [==============================] - 7s 731ms/step - loss: 0.7737 - sparse_categorical_accuracy: 0.6991 - val_loss: 0.7223 - val_sparse_categorical_accuracy: 0.7762\n",
            "Epoch 74/200\n",
            "10/10 [==============================] - 8s 824ms/step - loss: 0.7816 - sparse_categorical_accuracy: 0.6952 - val_loss: 0.6755 - val_sparse_categorical_accuracy: 0.7809\n",
            "Epoch 75/200\n",
            "10/10 [==============================] - 7s 730ms/step - loss: 0.7763 - sparse_categorical_accuracy: 0.6999 - val_loss: 0.7285 - val_sparse_categorical_accuracy: 0.7719\n",
            "Epoch 76/200\n",
            "10/10 [==============================] - 7s 734ms/step - loss: 0.7796 - sparse_categorical_accuracy: 0.6973 - val_loss: 0.6878 - val_sparse_categorical_accuracy: 0.7935\n",
            "Epoch 77/200\n",
            "10/10 [==============================] - 9s 869ms/step - loss: 0.7663 - sparse_categorical_accuracy: 0.7062 - val_loss: 0.7042 - val_sparse_categorical_accuracy: 0.7821\n",
            "Epoch 78/200\n",
            "10/10 [==============================] - 8s 809ms/step - loss: 0.7684 - sparse_categorical_accuracy: 0.7020 - val_loss: 0.7060 - val_sparse_categorical_accuracy: 0.7752\n",
            "Epoch 79/200\n",
            "10/10 [==============================] - 7s 706ms/step - loss: 0.7743 - sparse_categorical_accuracy: 0.6975 - val_loss: 0.6721 - val_sparse_categorical_accuracy: 0.7992\n",
            "Epoch 80/200\n",
            "10/10 [==============================] - 7s 670ms/step - loss: 0.7677 - sparse_categorical_accuracy: 0.7037 - val_loss: 0.7643 - val_sparse_categorical_accuracy: 0.7515\n",
            "Epoch 81/200\n",
            "10/10 [==============================] - 7s 668ms/step - loss: 0.7550 - sparse_categorical_accuracy: 0.7063 - val_loss: 0.7028 - val_sparse_categorical_accuracy: 0.7852\n",
            "Epoch 82/200\n",
            "10/10 [==============================] - 7s 667ms/step - loss: 0.7596 - sparse_categorical_accuracy: 0.7055 - val_loss: 0.6780 - val_sparse_categorical_accuracy: 0.7889\n",
            "Epoch 83/200\n",
            "10/10 [==============================] - 7s 736ms/step - loss: 0.7656 - sparse_categorical_accuracy: 0.7018 - val_loss: 0.6926 - val_sparse_categorical_accuracy: 0.7868\n",
            "Epoch 84/200\n",
            "10/10 [==============================] - 8s 818ms/step - loss: 0.7756 - sparse_categorical_accuracy: 0.6977 - val_loss: 0.6822 - val_sparse_categorical_accuracy: 0.7912\n",
            "Epoch 85/200\n",
            "10/10 [==============================] - 7s 677ms/step - loss: 0.7660 - sparse_categorical_accuracy: 0.7050 - val_loss: 0.7188 - val_sparse_categorical_accuracy: 0.7669\n",
            "Epoch 86/200\n",
            "10/10 [==============================] - 8s 822ms/step - loss: 0.7613 - sparse_categorical_accuracy: 0.7050 - val_loss: 0.6834 - val_sparse_categorical_accuracy: 0.7896\n",
            "Epoch 87/200\n",
            "10/10 [==============================] - 8s 787ms/step - loss: 0.7619 - sparse_categorical_accuracy: 0.7059 - val_loss: 0.6818 - val_sparse_categorical_accuracy: 0.7795\n",
            "Epoch 88/200\n",
            "10/10 [==============================] - 10s 999ms/step - loss: 0.7544 - sparse_categorical_accuracy: 0.7058 - val_loss: 0.6863 - val_sparse_categorical_accuracy: 0.7783\n",
            "Epoch 89/200\n",
            "10/10 [==============================] - 8s 819ms/step - loss: 0.7643 - sparse_categorical_accuracy: 0.7043 - val_loss: 0.7052 - val_sparse_categorical_accuracy: 0.7794\n",
            "Epoch 90/200\n",
            "10/10 [==============================] - 6s 655ms/step - loss: 0.7443 - sparse_categorical_accuracy: 0.7136 - val_loss: 0.7005 - val_sparse_categorical_accuracy: 0.7793\n",
            "Epoch 91/200\n",
            "10/10 [==============================] - 7s 665ms/step - loss: 0.7547 - sparse_categorical_accuracy: 0.7102 - val_loss: 0.6838 - val_sparse_categorical_accuracy: 0.7857\n",
            "Epoch 92/200\n",
            "10/10 [==============================] - 7s 663ms/step - loss: 0.7617 - sparse_categorical_accuracy: 0.7041 - val_loss: 0.6395 - val_sparse_categorical_accuracy: 0.8040\n",
            "Epoch 93/200\n",
            "10/10 [==============================] - 7s 661ms/step - loss: 0.7478 - sparse_categorical_accuracy: 0.7117 - val_loss: 0.6849 - val_sparse_categorical_accuracy: 0.7936\n",
            "Epoch 94/200\n",
            "10/10 [==============================] - 7s 660ms/step - loss: 0.7553 - sparse_categorical_accuracy: 0.7089 - val_loss: 0.7114 - val_sparse_categorical_accuracy: 0.7723\n",
            "Epoch 95/200\n",
            "10/10 [==============================] - 7s 710ms/step - loss: 0.7513 - sparse_categorical_accuracy: 0.7084 - val_loss: 0.6671 - val_sparse_categorical_accuracy: 0.7956\n",
            "Epoch 96/200\n",
            "10/10 [==============================] - 6s 658ms/step - loss: 0.7592 - sparse_categorical_accuracy: 0.7067 - val_loss: 0.6707 - val_sparse_categorical_accuracy: 0.7896\n",
            "Epoch 97/200\n",
            "10/10 [==============================] - 6s 651ms/step - loss: 0.7590 - sparse_categorical_accuracy: 0.7067 - val_loss: 0.6628 - val_sparse_categorical_accuracy: 0.7949\n",
            "Epoch 98/200\n",
            "10/10 [==============================] - 7s 659ms/step - loss: 0.7567 - sparse_categorical_accuracy: 0.7061 - val_loss: 0.6925 - val_sparse_categorical_accuracy: 0.7833\n",
            "Epoch 99/200\n",
            "10/10 [==============================] - 6s 656ms/step - loss: 0.7430 - sparse_categorical_accuracy: 0.7143 - val_loss: 0.6762 - val_sparse_categorical_accuracy: 0.7799\n",
            "Epoch 100/200\n",
            "10/10 [==============================] - 6s 656ms/step - loss: 0.7518 - sparse_categorical_accuracy: 0.7079 - val_loss: 0.6607 - val_sparse_categorical_accuracy: 0.8007\n",
            "Epoch 101/200\n",
            "10/10 [==============================] - 7s 662ms/step - loss: 0.7446 - sparse_categorical_accuracy: 0.7131 - val_loss: 0.7046 - val_sparse_categorical_accuracy: 0.7882\n",
            "Epoch 102/200\n",
            "10/10 [==============================] - 7s 682ms/step - loss: 0.7459 - sparse_categorical_accuracy: 0.7118 - val_loss: 0.6803 - val_sparse_categorical_accuracy: 0.7857\n",
            "Epoch 103/200\n",
            "10/10 [==============================] - 7s 682ms/step - loss: 0.7480 - sparse_categorical_accuracy: 0.7094 - val_loss: 0.6459 - val_sparse_categorical_accuracy: 0.8007\n",
            "Epoch 104/200\n",
            "10/10 [==============================] - 6s 650ms/step - loss: 0.7423 - sparse_categorical_accuracy: 0.7099 - val_loss: 0.6525 - val_sparse_categorical_accuracy: 0.8110\n",
            "Epoch 105/200\n",
            "10/10 [==============================] - 6s 651ms/step - loss: 0.7342 - sparse_categorical_accuracy: 0.7124 - val_loss: 0.7118 - val_sparse_categorical_accuracy: 0.7757\n",
            "Epoch 106/200\n",
            "10/10 [==============================] - 6s 655ms/step - loss: 0.7453 - sparse_categorical_accuracy: 0.7129 - val_loss: 0.6532 - val_sparse_categorical_accuracy: 0.8003\n",
            "Epoch 107/200\n",
            "10/10 [==============================] - 6s 654ms/step - loss: 0.7406 - sparse_categorical_accuracy: 0.7127 - val_loss: 0.6380 - val_sparse_categorical_accuracy: 0.7960\n",
            "Epoch 108/200\n",
            "10/10 [==============================] - 7s 707ms/step - loss: 0.7309 - sparse_categorical_accuracy: 0.7170 - val_loss: 0.6897 - val_sparse_categorical_accuracy: 0.7800\n",
            "Epoch 109/200\n",
            "10/10 [==============================] - 7s 659ms/step - loss: 0.7356 - sparse_categorical_accuracy: 0.7148 - val_loss: 0.6524 - val_sparse_categorical_accuracy: 0.8001\n",
            "Epoch 110/200\n",
            "10/10 [==============================] - 7s 667ms/step - loss: 0.7529 - sparse_categorical_accuracy: 0.7079 - val_loss: 0.6597 - val_sparse_categorical_accuracy: 0.7851\n",
            "Epoch 111/200\n",
            "10/10 [==============================] - 6s 648ms/step - loss: 0.7408 - sparse_categorical_accuracy: 0.7129 - val_loss: 0.6882 - val_sparse_categorical_accuracy: 0.7914\n",
            "Epoch 112/200\n",
            "10/10 [==============================] - 7s 661ms/step - loss: 0.7475 - sparse_categorical_accuracy: 0.7112 - val_loss: 0.6745 - val_sparse_categorical_accuracy: 0.7902\n",
            "Epoch 113/200\n",
            "10/10 [==============================] - 7s 658ms/step - loss: 0.7419 - sparse_categorical_accuracy: 0.7114 - val_loss: 0.6952 - val_sparse_categorical_accuracy: 0.7884\n",
            "Epoch 114/200\n",
            "10/10 [==============================] - 7s 705ms/step - loss: 0.7324 - sparse_categorical_accuracy: 0.7191 - val_loss: 0.7242 - val_sparse_categorical_accuracy: 0.7707\n",
            "Epoch 115/200\n",
            "10/10 [==============================] - 6s 648ms/step - loss: 0.7280 - sparse_categorical_accuracy: 0.7199 - val_loss: 0.6578 - val_sparse_categorical_accuracy: 0.7908\n",
            "Epoch 116/200\n",
            "10/10 [==============================] - 7s 661ms/step - loss: 0.7341 - sparse_categorical_accuracy: 0.7155 - val_loss: 0.6858 - val_sparse_categorical_accuracy: 0.7803\n",
            "Epoch 117/200\n",
            "10/10 [==============================] - 7s 661ms/step - loss: 0.7288 - sparse_categorical_accuracy: 0.7178 - val_loss: 0.6886 - val_sparse_categorical_accuracy: 0.7849\n",
            "Epoch 118/200\n",
            "10/10 [==============================] - 6s 652ms/step - loss: 0.7375 - sparse_categorical_accuracy: 0.7149 - val_loss: 0.6673 - val_sparse_categorical_accuracy: 0.7952\n",
            "Epoch 119/200\n",
            "10/10 [==============================] - 7s 684ms/step - loss: 0.7284 - sparse_categorical_accuracy: 0.7187 - val_loss: 0.6493 - val_sparse_categorical_accuracy: 0.7968\n",
            "Epoch 120/200\n",
            "10/10 [==============================] - 7s 663ms/step - loss: 0.7410 - sparse_categorical_accuracy: 0.7105 - val_loss: 0.6437 - val_sparse_categorical_accuracy: 0.7951\n",
            "Epoch 121/200\n",
            "10/10 [==============================] - 6s 652ms/step - loss: 0.7350 - sparse_categorical_accuracy: 0.7177 - val_loss: 0.6411 - val_sparse_categorical_accuracy: 0.8035\n",
            "Epoch 122/200\n",
            "10/10 [==============================] - 7s 655ms/step - loss: 0.7218 - sparse_categorical_accuracy: 0.7204 - val_loss: 0.6683 - val_sparse_categorical_accuracy: 0.7875\n",
            "Epoch 123/200\n",
            "10/10 [==============================] - 6s 656ms/step - loss: 0.7186 - sparse_categorical_accuracy: 0.7228 - val_loss: 0.6698 - val_sparse_categorical_accuracy: 0.7931\n",
            "Epoch 124/200\n",
            "10/10 [==============================] - 6s 656ms/step - loss: 0.7162 - sparse_categorical_accuracy: 0.7238 - val_loss: 0.6978 - val_sparse_categorical_accuracy: 0.7731\n",
            "Epoch 125/200\n",
            "10/10 [==============================] - 7s 659ms/step - loss: 0.7417 - sparse_categorical_accuracy: 0.7129 - val_loss: 0.6689 - val_sparse_categorical_accuracy: 0.7812\n",
            "Epoch 126/200\n",
            "10/10 [==============================] - 7s 658ms/step - loss: 0.7309 - sparse_categorical_accuracy: 0.7178 - val_loss: 0.6883 - val_sparse_categorical_accuracy: 0.7826\n",
            "Epoch 127/200\n",
            "10/10 [==============================] - 7s 657ms/step - loss: 0.7354 - sparse_categorical_accuracy: 0.7135 - val_loss: 0.6228 - val_sparse_categorical_accuracy: 0.8083\n",
            "Epoch 128/200\n",
            "10/10 [==============================] - 7s 661ms/step - loss: 0.7241 - sparse_categorical_accuracy: 0.7199 - val_loss: 0.6609 - val_sparse_categorical_accuracy: 0.8013\n",
            "Epoch 129/200\n",
            "10/10 [==============================] - 7s 663ms/step - loss: 0.7271 - sparse_categorical_accuracy: 0.7165 - val_loss: 0.6798 - val_sparse_categorical_accuracy: 0.7911\n",
            "Epoch 130/200\n",
            "10/10 [==============================] - 7s 668ms/step - loss: 0.7213 - sparse_categorical_accuracy: 0.7207 - val_loss: 0.6558 - val_sparse_categorical_accuracy: 0.8002\n",
            "Epoch 131/200\n",
            "10/10 [==============================] - 7s 667ms/step - loss: 0.7281 - sparse_categorical_accuracy: 0.7167 - val_loss: 0.6202 - val_sparse_categorical_accuracy: 0.8062\n",
            "Epoch 132/200\n",
            "10/10 [==============================] - 6s 654ms/step - loss: 0.7149 - sparse_categorical_accuracy: 0.7259 - val_loss: 0.6554 - val_sparse_categorical_accuracy: 0.7902\n",
            "Epoch 133/200\n",
            "10/10 [==============================] - 6s 655ms/step - loss: 0.7183 - sparse_categorical_accuracy: 0.7189 - val_loss: 0.6504 - val_sparse_categorical_accuracy: 0.7991\n",
            "Epoch 134/200\n",
            "10/10 [==============================] - 6s 654ms/step - loss: 0.7310 - sparse_categorical_accuracy: 0.7164 - val_loss: 0.6662 - val_sparse_categorical_accuracy: 0.7924\n",
            "Epoch 135/200\n",
            "10/10 [==============================] - 6s 654ms/step - loss: 0.7283 - sparse_categorical_accuracy: 0.7172 - val_loss: 0.6516 - val_sparse_categorical_accuracy: 0.7821\n",
            "Epoch 136/200\n",
            "10/10 [==============================] - 7s 659ms/step - loss: 0.7210 - sparse_categorical_accuracy: 0.7210 - val_loss: 0.6283 - val_sparse_categorical_accuracy: 0.8220\n",
            "Epoch 137/200\n",
            "10/10 [==============================] - 7s 683ms/step - loss: 0.7304 - sparse_categorical_accuracy: 0.7160 - val_loss: 0.6721 - val_sparse_categorical_accuracy: 0.7960\n",
            "Epoch 138/200\n",
            "10/10 [==============================] - 7s 685ms/step - loss: 0.7319 - sparse_categorical_accuracy: 0.7167 - val_loss: 0.6926 - val_sparse_categorical_accuracy: 0.7940\n",
            "Epoch 139/200\n",
            "10/10 [==============================] - 7s 671ms/step - loss: 0.7288 - sparse_categorical_accuracy: 0.7163 - val_loss: 0.6695 - val_sparse_categorical_accuracy: 0.7828\n",
            "Epoch 140/200\n",
            "10/10 [==============================] - 7s 664ms/step - loss: 0.7213 - sparse_categorical_accuracy: 0.7193 - val_loss: 0.6518 - val_sparse_categorical_accuracy: 0.7944\n",
            "Epoch 141/200\n",
            "10/10 [==============================] - 6s 655ms/step - loss: 0.7204 - sparse_categorical_accuracy: 0.7197 - val_loss: 0.6737 - val_sparse_categorical_accuracy: 0.7918\n",
            "Epoch 142/200\n",
            "10/10 [==============================] - 7s 668ms/step - loss: 0.7229 - sparse_categorical_accuracy: 0.7186 - val_loss: 0.6860 - val_sparse_categorical_accuracy: 0.7760\n",
            "Epoch 143/200\n",
            "10/10 [==============================] - 7s 671ms/step - loss: 0.7306 - sparse_categorical_accuracy: 0.7174 - val_loss: 0.6513 - val_sparse_categorical_accuracy: 0.7894\n",
            "Epoch 144/200\n",
            "10/10 [==============================] - 7s 667ms/step - loss: 0.7234 - sparse_categorical_accuracy: 0.7167 - val_loss: 0.6530 - val_sparse_categorical_accuracy: 0.7934\n",
            "Epoch 145/200\n",
            "10/10 [==============================] - 7s 663ms/step - loss: 0.7175 - sparse_categorical_accuracy: 0.7208 - val_loss: 0.6269 - val_sparse_categorical_accuracy: 0.8120\n",
            "Epoch 146/200\n",
            "10/10 [==============================] - 6s 653ms/step - loss: 0.7027 - sparse_categorical_accuracy: 0.7264 - val_loss: 0.6632 - val_sparse_categorical_accuracy: 0.7840\n",
            "Epoch 147/200\n",
            "10/10 [==============================] - 6s 656ms/step - loss: 0.7205 - sparse_categorical_accuracy: 0.7206 - val_loss: 0.6895 - val_sparse_categorical_accuracy: 0.7789\n",
            "Epoch 148/200\n",
            "10/10 [==============================] - 7s 659ms/step - loss: 0.7134 - sparse_categorical_accuracy: 0.7239 - val_loss: 0.6443 - val_sparse_categorical_accuracy: 0.7947\n",
            "Epoch 149/200\n",
            "10/10 [==============================] - 7s 664ms/step - loss: 0.7093 - sparse_categorical_accuracy: 0.7222 - val_loss: 0.6855 - val_sparse_categorical_accuracy: 0.7926\n",
            "Epoch 150/200\n",
            "10/10 [==============================] - 7s 664ms/step - loss: 0.7082 - sparse_categorical_accuracy: 0.7216 - val_loss: 0.6024 - val_sparse_categorical_accuracy: 0.8028\n",
            "Epoch 151/200\n",
            "10/10 [==============================] - 6s 655ms/step - loss: 0.7091 - sparse_categorical_accuracy: 0.7258 - val_loss: 0.7002 - val_sparse_categorical_accuracy: 0.7844\n",
            "Epoch 152/200\n",
            "10/10 [==============================] - 6s 651ms/step - loss: 0.6992 - sparse_categorical_accuracy: 0.7281 - val_loss: 0.6256 - val_sparse_categorical_accuracy: 0.8001\n",
            "Epoch 153/200\n",
            "10/10 [==============================] - 6s 653ms/step - loss: 0.7110 - sparse_categorical_accuracy: 0.7224 - val_loss: 0.6277 - val_sparse_categorical_accuracy: 0.8050\n",
            "Epoch 154/200\n",
            "10/10 [==============================] - 7s 663ms/step - loss: 0.7104 - sparse_categorical_accuracy: 0.7236 - val_loss: 0.6918 - val_sparse_categorical_accuracy: 0.7787\n",
            "Epoch 155/200\n",
            "10/10 [==============================] - 6s 649ms/step - loss: 0.7177 - sparse_categorical_accuracy: 0.7198 - val_loss: 0.6437 - val_sparse_categorical_accuracy: 0.7998\n",
            "Epoch 156/200\n",
            "10/10 [==============================] - 6s 649ms/step - loss: 0.6985 - sparse_categorical_accuracy: 0.7273 - val_loss: 0.6852 - val_sparse_categorical_accuracy: 0.7818\n",
            "Epoch 157/200\n",
            "10/10 [==============================] - 7s 666ms/step - loss: 0.7074 - sparse_categorical_accuracy: 0.7233 - val_loss: 0.6861 - val_sparse_categorical_accuracy: 0.7812\n",
            "Epoch 158/200\n",
            "10/10 [==============================] - 6s 654ms/step - loss: 0.7007 - sparse_categorical_accuracy: 0.7270 - val_loss: 0.6895 - val_sparse_categorical_accuracy: 0.7721\n",
            "Epoch 159/200\n",
            "10/10 [==============================] - 7s 657ms/step - loss: 0.7067 - sparse_categorical_accuracy: 0.7247 - val_loss: 0.6093 - val_sparse_categorical_accuracy: 0.8141\n",
            "Epoch 160/200\n",
            "10/10 [==============================] - 7s 661ms/step - loss: 0.6955 - sparse_categorical_accuracy: 0.7264 - val_loss: 0.6160 - val_sparse_categorical_accuracy: 0.8131\n",
            "Epoch 161/200\n",
            "10/10 [==============================] - 6s 654ms/step - loss: 0.7062 - sparse_categorical_accuracy: 0.7238 - val_loss: 0.6387 - val_sparse_categorical_accuracy: 0.7963\n",
            "Epoch 162/200\n",
            "10/10 [==============================] - 7s 657ms/step - loss: 0.7052 - sparse_categorical_accuracy: 0.7218 - val_loss: 0.6190 - val_sparse_categorical_accuracy: 0.8003\n",
            "Epoch 163/200\n",
            "10/10 [==============================] - 7s 658ms/step - loss: 0.7173 - sparse_categorical_accuracy: 0.7216 - val_loss: 0.6166 - val_sparse_categorical_accuracy: 0.8014\n",
            "Epoch 164/200\n",
            "10/10 [==============================] - 7s 661ms/step - loss: 0.7080 - sparse_categorical_accuracy: 0.7217 - val_loss: 0.6726 - val_sparse_categorical_accuracy: 0.8074\n",
            "Epoch 165/200\n",
            "10/10 [==============================] - 7s 663ms/step - loss: 0.7084 - sparse_categorical_accuracy: 0.7215 - val_loss: 0.6162 - val_sparse_categorical_accuracy: 0.8068\n",
            "Epoch 166/200\n",
            "10/10 [==============================] - 6s 653ms/step - loss: 0.7017 - sparse_categorical_accuracy: 0.7232 - val_loss: 0.6693 - val_sparse_categorical_accuracy: 0.7719\n",
            "Epoch 167/200\n",
            "10/10 [==============================] - 6s 649ms/step - loss: 0.7246 - sparse_categorical_accuracy: 0.7175 - val_loss: 0.6672 - val_sparse_categorical_accuracy: 0.7965\n",
            "Epoch 168/200\n",
            "10/10 [==============================] - 7s 661ms/step - loss: 0.7033 - sparse_categorical_accuracy: 0.7245 - val_loss: 0.6565 - val_sparse_categorical_accuracy: 0.7819\n",
            "Epoch 169/200\n",
            "10/10 [==============================] - 6s 657ms/step - loss: 0.6984 - sparse_categorical_accuracy: 0.7248 - val_loss: 0.6185 - val_sparse_categorical_accuracy: 0.8017\n",
            "Epoch 170/200\n",
            "10/10 [==============================] - 6s 657ms/step - loss: 0.7011 - sparse_categorical_accuracy: 0.7238 - val_loss: 0.6086 - val_sparse_categorical_accuracy: 0.8152\n",
            "Epoch 171/200\n",
            "10/10 [==============================] - 7s 662ms/step - loss: 0.7299 - sparse_categorical_accuracy: 0.7175 - val_loss: 0.6360 - val_sparse_categorical_accuracy: 0.7887\n",
            "Epoch 172/200\n",
            "10/10 [==============================] - 7s 714ms/step - loss: 0.7184 - sparse_categorical_accuracy: 0.7168 - val_loss: 0.6292 - val_sparse_categorical_accuracy: 0.8054\n",
            "Epoch 173/200\n",
            "10/10 [==============================] - 7s 671ms/step - loss: 0.7082 - sparse_categorical_accuracy: 0.7208 - val_loss: 0.6348 - val_sparse_categorical_accuracy: 0.7999\n",
            "Epoch 174/200\n",
            "10/10 [==============================] - 7s 674ms/step - loss: 0.7260 - sparse_categorical_accuracy: 0.7157 - val_loss: 0.6662 - val_sparse_categorical_accuracy: 0.7808\n",
            "Epoch 175/200\n",
            "10/10 [==============================] - 7s 672ms/step - loss: 0.7119 - sparse_categorical_accuracy: 0.7186 - val_loss: 0.6265 - val_sparse_categorical_accuracy: 0.7849\n",
            "Epoch 176/200\n",
            "10/10 [==============================] - 7s 661ms/step - loss: 0.7258 - sparse_categorical_accuracy: 0.7165 - val_loss: 0.6211 - val_sparse_categorical_accuracy: 0.7950\n",
            "Epoch 177/200\n",
            "10/10 [==============================] - 6s 656ms/step - loss: 0.7122 - sparse_categorical_accuracy: 0.7197 - val_loss: 0.6678 - val_sparse_categorical_accuracy: 0.7796\n",
            "Epoch 178/200\n",
            "10/10 [==============================] - 6s 650ms/step - loss: 0.7022 - sparse_categorical_accuracy: 0.7248 - val_loss: 0.6368 - val_sparse_categorical_accuracy: 0.7964\n",
            "Epoch 179/200\n",
            "10/10 [==============================] - 7s 669ms/step - loss: 0.7164 - sparse_categorical_accuracy: 0.7216 - val_loss: 0.6795 - val_sparse_categorical_accuracy: 0.7807\n",
            "Epoch 180/200\n",
            "10/10 [==============================] - 7s 670ms/step - loss: 0.6861 - sparse_categorical_accuracy: 0.7298 - val_loss: 0.6255 - val_sparse_categorical_accuracy: 0.7891\n",
            "Epoch 181/200\n",
            "10/10 [==============================] - 7s 662ms/step - loss: 0.7169 - sparse_categorical_accuracy: 0.7160 - val_loss: 0.6949 - val_sparse_categorical_accuracy: 0.7774\n",
            "Epoch 182/200\n",
            "10/10 [==============================] - 7s 664ms/step - loss: 0.7141 - sparse_categorical_accuracy: 0.7204 - val_loss: 0.6637 - val_sparse_categorical_accuracy: 0.7884\n",
            "Epoch 183/200\n",
            "10/10 [==============================] - 7s 662ms/step - loss: 0.7055 - sparse_categorical_accuracy: 0.7244 - val_loss: 0.6198 - val_sparse_categorical_accuracy: 0.8136\n",
            "Epoch 184/200\n",
            "10/10 [==============================] - 7s 661ms/step - loss: 0.6978 - sparse_categorical_accuracy: 0.7266 - val_loss: 0.6321 - val_sparse_categorical_accuracy: 0.8037\n",
            "Epoch 185/200\n",
            "10/10 [==============================] - 7s 668ms/step - loss: 0.7025 - sparse_categorical_accuracy: 0.7244 - val_loss: 0.6574 - val_sparse_categorical_accuracy: 0.7830\n",
            "Epoch 186/200\n",
            "10/10 [==============================] - 7s 667ms/step - loss: 0.6928 - sparse_categorical_accuracy: 0.7273 - val_loss: 0.6711 - val_sparse_categorical_accuracy: 0.7715\n",
            "Epoch 187/200\n",
            "10/10 [==============================] - 7s 663ms/step - loss: 0.6916 - sparse_categorical_accuracy: 0.7276 - val_loss: 0.6299 - val_sparse_categorical_accuracy: 0.7994\n",
            "Epoch 188/200\n",
            "10/10 [==============================] - 7s 657ms/step - loss: 0.6989 - sparse_categorical_accuracy: 0.7275 - val_loss: 0.6417 - val_sparse_categorical_accuracy: 0.7921\n",
            "Epoch 189/200\n",
            "10/10 [==============================] - 6s 655ms/step - loss: 0.6920 - sparse_categorical_accuracy: 0.7284 - val_loss: 0.6825 - val_sparse_categorical_accuracy: 0.7859\n",
            "Epoch 190/200\n",
            "10/10 [==============================] - 7s 665ms/step - loss: 0.6982 - sparse_categorical_accuracy: 0.7266 - val_loss: 0.6290 - val_sparse_categorical_accuracy: 0.7983\n",
            "Epoch 191/200\n",
            "10/10 [==============================] - 6s 655ms/step - loss: 0.6972 - sparse_categorical_accuracy: 0.7255 - val_loss: 0.6246 - val_sparse_categorical_accuracy: 0.8035\n",
            "Epoch 192/200\n",
            "10/10 [==============================] - 6s 655ms/step - loss: 0.6886 - sparse_categorical_accuracy: 0.7298 - val_loss: 0.6609 - val_sparse_categorical_accuracy: 0.7771\n",
            "Epoch 193/200\n",
            "10/10 [==============================] - 7s 667ms/step - loss: 0.6845 - sparse_categorical_accuracy: 0.7293 - val_loss: 0.6910 - val_sparse_categorical_accuracy: 0.7691\n",
            "Epoch 194/200\n",
            "10/10 [==============================] - 7s 659ms/step - loss: 0.6870 - sparse_categorical_accuracy: 0.7300 - val_loss: 0.6848 - val_sparse_categorical_accuracy: 0.7623\n",
            "Epoch 195/200\n",
            "10/10 [==============================] - 7s 658ms/step - loss: 0.6884 - sparse_categorical_accuracy: 0.7261 - val_loss: 0.6369 - val_sparse_categorical_accuracy: 0.7926\n",
            "Epoch 196/200\n",
            "10/10 [==============================] - 7s 662ms/step - loss: 0.6997 - sparse_categorical_accuracy: 0.7244 - val_loss: 0.5951 - val_sparse_categorical_accuracy: 0.7959\n",
            "Epoch 197/200\n",
            "10/10 [==============================] - 7s 662ms/step - loss: 0.6909 - sparse_categorical_accuracy: 0.7272 - val_loss: 0.6903 - val_sparse_categorical_accuracy: 0.8010\n",
            "Epoch 198/200\n",
            "10/10 [==============================] - 6s 659ms/step - loss: 0.6890 - sparse_categorical_accuracy: 0.7274 - val_loss: 0.5884 - val_sparse_categorical_accuracy: 0.8104\n",
            "Epoch 199/200\n",
            "10/10 [==============================] - 6s 648ms/step - loss: 0.7015 - sparse_categorical_accuracy: 0.7267 - val_loss: 0.6711 - val_sparse_categorical_accuracy: 0.7775\n",
            "Epoch 200/200\n",
            "10/10 [==============================] - 7s 658ms/step - loss: 0.6986 - sparse_categorical_accuracy: 0.7235 - val_loss: 0.6166 - val_sparse_categorical_accuracy: 0.7996\n",
            "Model: \"sequential_5\"\n",
            "_________________________________________________________________\n",
            " Layer (type)                Output Shape              Param #   \n",
            "=================================================================\n",
            " flatten_5 (Flatten)         (None, 1806)              0         \n",
            "                                                                 \n",
            " dense_10 (Dense)            (None, 4000)              7228000   \n",
            "                                                                 \n",
            " batch_normalization_10 (Bat  (None, 4000)             16000     \n",
            " chNormalization)                                                \n",
            "                                                                 \n",
            " dense_11 (Dense)            (None, 1000)              4001000   \n",
            "                                                                 \n",
            " batch_normalization_11 (Bat  (None, 1000)             4000      \n",
            " chNormalization)                                                \n",
            "                                                                 \n",
            " reshape_5 (Reshape)         (None, 200, 5)            0         \n",
            "                                                                 \n",
            " up_sampling1d_5 (UpSampling  (None, 2000, 5)          0         \n",
            " 1D)                                                             \n",
            "                                                                 \n",
            " dropout_5 (Dropout)         (None, 2000, 5)           0         \n",
            "                                                                 \n",
            " activation_5 (Activation)   (None, 2000, 5)           0         \n",
            "                                                                 \n",
            "=================================================================\n",
            "Total params: 11,249,000\n",
            "Trainable params: 11,239,000\n",
            "Non-trainable params: 10,000\n",
            "_________________________________________________________________\n"
          ]
        }
      ]
    },
    {
      "cell_type": "markdown",
      "source": [
        "Training and Validation Plots and Values"
      ],
      "metadata": {
        "id": "19zprOwFqbEL"
      },
      "id": "19zprOwFqbEL"
    },
    {
      "cell_type": "code",
      "source": [
        "print(history.history.keys())\n",
        "plt.plot(history.history['sparse_categorical_accuracy'])\n",
        "plt.plot(history.history['val_sparse_categorical_accuracy'])\n",
        "plt.title('model accuracy')\n",
        "plt.ylabel('accuracy')\n",
        "plt.xlabel('epoch')\n",
        "plt.legend(['train', 'val'], loc='upper left')\n",
        "plt.show()\n",
        "\n",
        "plt.plot(history.history['loss'])\n",
        "plt.plot(history.history['val_loss'])\n",
        "plt.title('model loss')\n",
        "plt.ylabel('loss')\n",
        "plt.xlabel('epoch')\n",
        "plt.legend(['train', 'val'], loc='upper left')\n",
        "plt.show()\n",
        "\n",
        "print(\"Train Accuracy\")\n",
        "print(numpy.max(history.history['sparse_categorical_accuracy']))\n",
        "print(\"Validation Accuracy\")\n",
        "print(numpy.max(history.history['val_sparse_categorical_accuracy']))\n",
        "print(\"Train Loss\")\n",
        "print(numpy.min(history.history['loss']))\n",
        "print(\"Validation Loss\")\n",
        "print(numpy.min(history.history['val_loss']))"
      ],
      "metadata": {
        "id": "FPB_7nsUWfZy",
        "colab": {
          "base_uri": "https://localhost:8080/",
          "height": 729
        },
        "outputId": "3bf306a1-e61a-4e14-eee3-7036e5a04111"
      },
      "id": "FPB_7nsUWfZy",
      "execution_count": null,
      "outputs": [
        {
          "output_type": "stream",
          "name": "stdout",
          "text": [
            "dict_keys(['loss', 'sparse_categorical_accuracy', 'val_loss', 'val_sparse_categorical_accuracy'])\n"
          ]
        },
        {
          "output_type": "display_data",
          "data": {
            "text/plain": [
              "<Figure size 432x288 with 1 Axes>"
            ],
            "image/png": "[encoded data removed]"
          },
          "metadata": {
            "needs_background": "light"
          }
        },
        {
          "output_type": "display_data",
          "data": {
            "text/plain": [
              "<Figure size 432x288 with 1 Axes>"
            ],
            "image/png": "[encoded data removed]"
          },
          "metadata": {
            "needs_background": "light"
          }
        },
        {
          "output_type": "stream",
          "name": "stdout",
          "text": [
            "Train Accuracy\n",
            "0.7300242185592651\n",
            "Validation Accuracy\n",
            "0.8220122456550598\n",
            "Train Loss\n",
            "0.684510350227356\n",
            "Validation Loss\n",
            "0.5884000062942505\n"
          ]
        }
      ]
    },
    {
      "cell_type": "markdown",
      "source": [
        "Predict Function"
      ],
      "metadata": {
        "id": "0oRocNoSqVaF"
      },
      "id": "0oRocNoSqVaF"
    },
    {
      "cell_type": "code",
      "source": [
        "readNump=np.load(dirteste + \"49631_AV_sigTarg.npy\")\n",
        "#readNump=np.load(dirteste + \"50807_PV_sigTarg.npy\")\n",
        "readNumpX = readNump[0]\n",
        "\n",
        "splitSize = 2000\n",
        "splitNump = [readNumpX[x:x+splitSize] for x in range(0, len(readNumpX), splitSize)]\n",
        "splitNump[-1] = np.append(splitNump[-1], np.zeros(splitSize-len(splitNump[-1])))\n",
        "\n",
        "arrayF = []\n",
        "for i in splitNump:\n",
        "  arrayF.append(tf.math.abs(tf.signal.stft(i,256,128)))\n",
        "\n",
        "batchEx = np.array(arrayF)\n",
        "predict = model.predict(batchEx)\n",
        "\n",
        "predictArgMax = tf.argmax(predict,axis=-1)\n",
        "atributos = readNumpX\n",
        "print(\"Atributos\"+str(atributos))"
      ],
      "metadata": {
        "id": "Ytk5w4boWfD5",
        "colab": {
          "base_uri": "https://localhost:8080/"
        },
        "outputId": "9b94017e-cda9-4d47-b250-9911f797e3af"
      },
      "id": "Ytk5w4boWfD5",
      "execution_count": null,
      "outputs": [
        {
          "output_type": "stream",
          "name": "stdout",
          "text": [
            "Atributos[  281. -1174. -1942. ... -3357.  1983.  4854.]\n"
          ]
        }
      ]
    },
    {
      "cell_type": "markdown",
      "source": [
        "Predict Graph"
      ],
      "metadata": {
        "id": "B5nV6qLUqGVy"
      },
      "id": "B5nV6qLUqGVy"
    },
    {
      "cell_type": "code",
      "source": [
        "plt.plot(predictArgMax[0][:2000])\n",
        "plt.plot(readNumpX[0:2000]/5000)\n",
        "plt.show()"
      ],
      "metadata": {
        "id": "nDMyMo3aqHZB",
        "colab": {
          "base_uri": "https://localhost:8080/",
          "height": 265
        },
        "outputId": "54ab5b31-18db-41ec-fbcc-f0ba4120ed95"
      },
      "id": "nDMyMo3aqHZB",
      "execution_count": null,
      "outputs": [
        {
          "output_type": "display_data",
          "data": {
            "text/plain": [
              "<Figure size 432x288 with 1 Axes>"
            ],
            "image/png": "[encoded data removed]"
          },
          "metadata": {
            "needs_background": "light"
          }
        }
      ]
    },
    {
      "cell_type": "markdown",
      "source": [
        "# **CONVOLUTIONAL**"
      ],
      "metadata": {
        "id": "fBvk5OrLWgQ9"
      },
      "id": "fBvk5OrLWgQ9"
    },
    {
      "cell_type": "code",
      "source": [
        "import keras\n",
        "from tensorflow.keras.utils import plot_model\n",
        "from tensorflow.keras.layers import BatchNormalization,Conv2D, Conv1D,MaxPooling1D, TimeDistributed, Concatenate\n",
        "from tensorflow.keras.layers import Activation, Flatten, Dropout, Dense, Reshape, UpSampling1D, Input, LSTM, SpatialDropout1D\n",
        "from tensorflow.keras.optimizers import SGD, Adam\n",
        "\n",
        "input_1 = Input(shape=[], name='cutting_layer')\n",
        "input_ = Input(shape=(None,33))\n",
        "\n",
        "layer = Conv1D(64,kernel_size=3, activation='ReLU')(input_)\n",
        "layer = BatchNormalization()(layer)\n",
        "#layer = SpatialDropout1D(0.2)(layer)\n",
        "layer = MaxPooling1D(pool_size=2)(layer)\n",
        "\n",
        "layer = Conv1D(64,kernel_size=3, activation='ReLU')(layer)\n",
        "layer = BatchNormalization()(layer)\n",
        "#layer = SpatialDropout1D(0.2)(layer)\n",
        "layer = MaxPooling1D(pool_size=2)(layer)\n",
        "\n",
        "layer = Conv1D(64,kernel_size=3, padding=\"same\",activation='ReLU')(layer)\n",
        "layer = BatchNormalization()(layer)\n",
        "#layer = SpatialDropout1D(0.2)(layer)\n",
        "layer = MaxPooling1D(pool_size=2)(layer)\n",
        "\n",
        "layer = Conv1D(128,kernel_size=3, activation='ReLU')(layer)\n",
        "layer = BatchNormalization()(layer)\n",
        "#layer = SpatialDropout1D(0.2)(layer)\n",
        "layer = MaxPooling1D(pool_size=2)(layer)\n",
        "\n",
        "p=35\n",
        "layer = TimeDistributed(Dense(p))(layer)\n",
        "layer = Reshape((-1,5))(layer)\n",
        "layer = UpSampling1D(size=(100))(layer)\n",
        "A=tf.reduce_max(input_1)\n",
        "A=tf.cast(A,tf.int32)\n",
        "print(A)\n",
        "layer = layer[:,:A]\n",
        "layer = SpatialDropout1D(0.3)(layer)\n",
        "layer = Activation(\"softmax\")(layer)\n",
        "\n",
        "model = keras.Model(inputs=([input_1, input_]), outputs=layer)\n",
        "\n",
        "plot_model(model, to_file='model_Conv.png', show_shapes=True)\n",
        "\n",
        "\n",
        "#O=model(ex3[0])\n",
        "#print(O)\n",
        "\n",
        "INIT_LR = 0.0001\n",
        "NUM_EPOCHS = 50\n",
        "#opt = SGD(learning_rate=INIT_LR)\n",
        "opt=Adam()\n",
        "model.compile(metrics = ['sparse_categorical_accuracy'],loss=tf.keras.losses.SparseCategoricalCrossentropy(), optimizer=opt)\n",
        "\n",
        "model.summary()\n",
        "\n",
        "history = model.fit(train_data_full, validation_data=val_data_full, epochs=NUM_EPOCHS)"
      ],
      "metadata": {
        "id": "toJ-No0kWnAf",
        "colab": {
          "base_uri": "https://localhost:8080/"
        },
        "outputId": "fcb25e15-b19c-4733-acb7-f92fc0deb4e4"
      },
      "id": "toJ-No0kWnAf",
      "execution_count": null,
      "outputs": [
        {
          "output_type": "stream",
          "name": "stdout",
          "text": [
            "KerasTensor(type_spec=TensorSpec(shape=(), dtype=tf.int32, name=None), inferred_value=[None], name='tf.cast/Cast:0', description=\"created by layer 'tf.cast'\")\n",
            "Model: \"model\"\n",
            "__________________________________________________________________________________________________\n",
            " Layer (type)                   Output Shape         Param #     Connected to                     \n",
            "==================================================================================================\n",
            " input_1 (InputLayer)           [(None, None, 33)]   0           []                               \n",
            "                                                                                                  \n",
            " conv1d (Conv1D)                (None, None, 64)     6400        ['input_1[0][0]']                \n",
            "                                                                                                  \n",
            " batch_normalization_12 (BatchN  (None, None, 64)    256         ['conv1d[0][0]']                 \n",
            " ormalization)                                                                                    \n",
            "                                                                                                  \n",
            " max_pooling1d (MaxPooling1D)   (None, None, 64)     0           ['batch_normalization_12[0][0]'] \n",
            "                                                                                                  \n",
            " conv1d_1 (Conv1D)              (None, None, 64)     12352       ['max_pooling1d[0][0]']          \n",
            "                                                                                                  \n",
            " batch_normalization_13 (BatchN  (None, None, 64)    256         ['conv1d_1[0][0]']               \n",
            " ormalization)                                                                                    \n",
            "                                                                                                  \n",
            " max_pooling1d_1 (MaxPooling1D)  (None, None, 64)    0           ['batch_normalization_13[0][0]'] \n",
            "                                                                                                  \n",
            " conv1d_2 (Conv1D)              (None, None, 64)     12352       ['max_pooling1d_1[0][0]']        \n",
            "                                                                                                  \n",
            " batch_normalization_14 (BatchN  (None, None, 64)    256         ['conv1d_2[0][0]']               \n",
            " ormalization)                                                                                    \n",
            "                                                                                                  \n",
            " max_pooling1d_2 (MaxPooling1D)  (None, None, 64)    0           ['batch_normalization_14[0][0]'] \n",
            "                                                                                                  \n",
            " conv1d_3 (Conv1D)              (None, None, 128)    24704       ['max_pooling1d_2[0][0]']        \n",
            "                                                                                                  \n",
            " batch_normalization_15 (BatchN  (None, None, 128)   512         ['conv1d_3[0][0]']               \n",
            " ormalization)                                                                                    \n",
            "                                                                                                  \n",
            " max_pooling1d_3 (MaxPooling1D)  (None, None, 128)   0           ['batch_normalization_15[0][0]'] \n",
            "                                                                                                  \n",
            " time_distributed (TimeDistribu  (None, None, 35)    4515        ['max_pooling1d_3[0][0]']        \n",
            " ted)                                                                                             \n",
            "                                                                                                  \n",
            " cutting_layer (InputLayer)     [(None,)]            0           []                               \n",
            "                                                                                                  \n",
            " reshape_6 (Reshape)            (None, None, 5)      0           ['time_distributed[0][0]']       \n",
            "                                                                                                  \n",
            " tf.math.reduce_max (TFOpLambda  ()                  0           ['cutting_layer[0][0]']          \n",
            " )                                                                                                \n",
            "                                                                                                  \n",
            " up_sampling1d_6 (UpSampling1D)  (None, None, 5)     0           ['reshape_6[0][0]']              \n",
            "                                                                                                  \n",
            " tf.cast (TFOpLambda)           ()                   0           ['tf.math.reduce_max[0][0]']     \n",
            "                                                                                                  \n",
            " tf.__operators__.getitem (Slic  (None, None, 5)     0           ['up_sampling1d_6[0][0]',        \n",
            " ingOpLambda)                                                     'tf.cast[0][0]']                \n",
            "                                                                                                  \n",
            " spatial_dropout1d (SpatialDrop  (None, None, 5)     0           ['tf.__operators__.getitem[0][0]'\n",
            " out1D)                                                          ]                                \n",
            "                                                                                                  \n",
            " activation_6 (Activation)      (None, None, 5)      0           ['spatial_dropout1d[0][0]']      \n",
            "                                                                                                  \n",
            "==================================================================================================\n",
            "Total params: 61,603\n",
            "Trainable params: 60,963\n",
            "Non-trainable params: 640\n",
            "__________________________________________________________________________________________________\n",
            "Epoch 1/50\n",
            "50/50 [==============================] - 27s 322ms/step - loss: 1.5702 - sparse_categorical_accuracy: 0.3740 - val_loss: 1.6646 - val_sparse_categorical_accuracy: 0.3913\n",
            "Epoch 2/50\n",
            "50/50 [==============================] - 14s 277ms/step - loss: 1.3605 - sparse_categorical_accuracy: 0.4244 - val_loss: 1.4347 - val_sparse_categorical_accuracy: 0.4509\n",
            "Epoch 3/50\n",
            "50/50 [==============================] - 14s 280ms/step - loss: 1.3300 - sparse_categorical_accuracy: 0.4293 - val_loss: 1.4033 - val_sparse_categorical_accuracy: 0.4631\n",
            "Epoch 4/50\n",
            "50/50 [==============================] - 15s 295ms/step - loss: 1.3219 - sparse_categorical_accuracy: 0.4310 - val_loss: 1.3975 - val_sparse_categorical_accuracy: 0.4666\n",
            "Epoch 5/50\n",
            "50/50 [==============================] - 14s 286ms/step - loss: 1.3090 - sparse_categorical_accuracy: 0.4315 - val_loss: 1.3643 - val_sparse_categorical_accuracy: 0.4677\n",
            "Epoch 6/50\n",
            "50/50 [==============================] - 14s 283ms/step - loss: 1.3058 - sparse_categorical_accuracy: 0.4353 - val_loss: 1.2629 - val_sparse_categorical_accuracy: 0.4696\n",
            "Epoch 7/50\n",
            "50/50 [==============================] - 14s 278ms/step - loss: 1.3051 - sparse_categorical_accuracy: 0.4368 - val_loss: 1.2967 - val_sparse_categorical_accuracy: 0.4689\n",
            "Epoch 8/50\n",
            "50/50 [==============================] - 14s 282ms/step - loss: 1.3024 - sparse_categorical_accuracy: 0.4380 - val_loss: 1.2979 - val_sparse_categorical_accuracy: 0.4700\n",
            "Epoch 9/50\n",
            "50/50 [==============================] - 15s 291ms/step - loss: 1.2975 - sparse_categorical_accuracy: 0.4383 - val_loss: 1.2578 - val_sparse_categorical_accuracy: 0.4701\n",
            "Epoch 10/50\n",
            "50/50 [==============================] - 15s 291ms/step - loss: 1.2992 - sparse_categorical_accuracy: 0.4367 - val_loss: 1.2546 - val_sparse_categorical_accuracy: 0.4705\n",
            "Epoch 11/50\n",
            "50/50 [==============================] - 15s 292ms/step - loss: 1.3023 - sparse_categorical_accuracy: 0.4352 - val_loss: 1.2714 - val_sparse_categorical_accuracy: 0.4699\n",
            "Epoch 12/50\n",
            "50/50 [==============================] - 14s 280ms/step - loss: 1.2968 - sparse_categorical_accuracy: 0.4382 - val_loss: 1.2421 - val_sparse_categorical_accuracy: 0.4715\n",
            "Epoch 13/50\n",
            "50/50 [==============================] - 14s 281ms/step - loss: 1.2958 - sparse_categorical_accuracy: 0.4360 - val_loss: 1.2557 - val_sparse_categorical_accuracy: 0.4708\n",
            "Epoch 14/50\n",
            "50/50 [==============================] - 14s 281ms/step - loss: 1.2980 - sparse_categorical_accuracy: 0.4349 - val_loss: 1.2381 - val_sparse_categorical_accuracy: 0.4713\n",
            "Epoch 15/50\n",
            "50/50 [==============================] - 14s 283ms/step - loss: 1.2953 - sparse_categorical_accuracy: 0.4358 - val_loss: 1.2373 - val_sparse_categorical_accuracy: 0.4718\n",
            "Epoch 16/50\n",
            "50/50 [==============================] - 14s 286ms/step - loss: 1.2906 - sparse_categorical_accuracy: 0.4388 - val_loss: 1.2410 - val_sparse_categorical_accuracy: 0.4720\n",
            "Epoch 17/50\n",
            "50/50 [==============================] - 14s 284ms/step - loss: 1.2926 - sparse_categorical_accuracy: 0.4376 - val_loss: 1.2676 - val_sparse_categorical_accuracy: 0.4717\n",
            "Epoch 18/50\n",
            "50/50 [==============================] - 14s 283ms/step - loss: 1.2921 - sparse_categorical_accuracy: 0.4406 - val_loss: 1.2349 - val_sparse_categorical_accuracy: 0.4723\n",
            "Epoch 19/50\n",
            "50/50 [==============================] - 14s 280ms/step - loss: 1.2929 - sparse_categorical_accuracy: 0.4377 - val_loss: 1.2348 - val_sparse_categorical_accuracy: 0.4721\n",
            "Epoch 20/50\n",
            "50/50 [==============================] - 14s 281ms/step - loss: 1.2885 - sparse_categorical_accuracy: 0.4403 - val_loss: 1.2365 - val_sparse_categorical_accuracy: 0.4720\n",
            "Epoch 21/50\n",
            "50/50 [==============================] - 14s 278ms/step - loss: 1.2887 - sparse_categorical_accuracy: 0.4405 - val_loss: 1.2495 - val_sparse_categorical_accuracy: 0.4724\n",
            "Epoch 22/50\n",
            "50/50 [==============================] - 14s 279ms/step - loss: 1.2931 - sparse_categorical_accuracy: 0.4406 - val_loss: 1.2376 - val_sparse_categorical_accuracy: 0.4718\n",
            "Epoch 23/50\n",
            "50/50 [==============================] - 14s 279ms/step - loss: 1.2855 - sparse_categorical_accuracy: 0.4400 - val_loss: 1.2383 - val_sparse_categorical_accuracy: 0.4714\n",
            "Epoch 24/50\n",
            "50/50 [==============================] - 15s 304ms/step - loss: 1.2906 - sparse_categorical_accuracy: 0.4410 - val_loss: 1.2376 - val_sparse_categorical_accuracy: 0.4720\n",
            "Epoch 25/50\n",
            "50/50 [==============================] - 14s 282ms/step - loss: 1.2908 - sparse_categorical_accuracy: 0.4408 - val_loss: 1.2416 - val_sparse_categorical_accuracy: 0.4717\n",
            "Epoch 26/50\n",
            "50/50 [==============================] - 14s 279ms/step - loss: 1.2941 - sparse_categorical_accuracy: 0.4401 - val_loss: 1.2395 - val_sparse_categorical_accuracy: 0.4721\n",
            "Epoch 27/50\n",
            "50/50 [==============================] - 14s 279ms/step - loss: 1.2876 - sparse_categorical_accuracy: 0.4437 - val_loss: 1.3162 - val_sparse_categorical_accuracy: 0.4707\n",
            "Epoch 28/50\n",
            "50/50 [==============================] - 14s 278ms/step - loss: 1.2911 - sparse_categorical_accuracy: 0.4380 - val_loss: 1.2393 - val_sparse_categorical_accuracy: 0.4699\n",
            "Epoch 29/50\n",
            "50/50 [==============================] - 14s 278ms/step - loss: 1.2831 - sparse_categorical_accuracy: 0.4399 - val_loss: 1.2398 - val_sparse_categorical_accuracy: 0.4707\n",
            "Epoch 30/50\n",
            "50/50 [==============================] - 14s 281ms/step - loss: 1.2847 - sparse_categorical_accuracy: 0.4406 - val_loss: 1.2479 - val_sparse_categorical_accuracy: 0.4713\n",
            "Epoch 31/50\n",
            "50/50 [==============================] - 14s 280ms/step - loss: 1.2865 - sparse_categorical_accuracy: 0.4440 - val_loss: 1.2748 - val_sparse_categorical_accuracy: 0.4705\n",
            "Epoch 32/50\n",
            "50/50 [==============================] - 14s 279ms/step - loss: 1.2794 - sparse_categorical_accuracy: 0.4423 - val_loss: 1.3216 - val_sparse_categorical_accuracy: 0.4707\n",
            "Epoch 33/50\n",
            "50/50 [==============================] - 14s 279ms/step - loss: 1.2825 - sparse_categorical_accuracy: 0.4425 - val_loss: 1.2536 - val_sparse_categorical_accuracy: 0.4703\n",
            "Epoch 34/50\n",
            "50/50 [==============================] - 14s 283ms/step - loss: 1.2804 - sparse_categorical_accuracy: 0.4439 - val_loss: 1.3214 - val_sparse_categorical_accuracy: 0.4691\n",
            "Epoch 35/50\n",
            "50/50 [==============================] - 15s 303ms/step - loss: 1.2785 - sparse_categorical_accuracy: 0.4430 - val_loss: 1.3644 - val_sparse_categorical_accuracy: 0.4698\n",
            "Epoch 36/50\n",
            "50/50 [==============================] - 24s 476ms/step - loss: 1.2790 - sparse_categorical_accuracy: 0.4448 - val_loss: 1.2774 - val_sparse_categorical_accuracy: 0.4698\n",
            "Epoch 37/50\n",
            "50/50 [==============================] - 16s 313ms/step - loss: 1.2740 - sparse_categorical_accuracy: 0.4437 - val_loss: 1.2871 - val_sparse_categorical_accuracy: 0.4691\n",
            "Epoch 38/50\n",
            "50/50 [==============================] - 23s 457ms/step - loss: 1.2741 - sparse_categorical_accuracy: 0.4491 - val_loss: 1.3238 - val_sparse_categorical_accuracy: 0.4670\n",
            "Epoch 39/50\n",
            "50/50 [==============================] - 14s 280ms/step - loss: 1.2685 - sparse_categorical_accuracy: 0.4464 - val_loss: 1.3066 - val_sparse_categorical_accuracy: 0.4688\n",
            "Epoch 40/50\n",
            "50/50 [==============================] - 14s 281ms/step - loss: 1.2707 - sparse_categorical_accuracy: 0.4498 - val_loss: 1.2996 - val_sparse_categorical_accuracy: 0.4661\n",
            "Epoch 41/50\n",
            "50/50 [==============================] - 14s 280ms/step - loss: 1.2655 - sparse_categorical_accuracy: 0.4513 - val_loss: 1.2521 - val_sparse_categorical_accuracy: 0.4666\n",
            "Epoch 42/50\n",
            "50/50 [==============================] - 14s 282ms/step - loss: 1.2685 - sparse_categorical_accuracy: 0.4496 - val_loss: 1.2866 - val_sparse_categorical_accuracy: 0.4685\n",
            "Epoch 43/50\n",
            "50/50 [==============================] - 15s 292ms/step - loss: 1.2603 - sparse_categorical_accuracy: 0.4500 - val_loss: 1.2775 - val_sparse_categorical_accuracy: 0.4671\n",
            "Epoch 44/50\n",
            "50/50 [==============================] - 14s 283ms/step - loss: 1.2580 - sparse_categorical_accuracy: 0.4522 - val_loss: 1.3106 - val_sparse_categorical_accuracy: 0.4669\n",
            "Epoch 45/50\n",
            "50/50 [==============================] - 14s 281ms/step - loss: 1.2566 - sparse_categorical_accuracy: 0.4560 - val_loss: 1.2832 - val_sparse_categorical_accuracy: 0.4636\n",
            "Epoch 46/50\n",
            "50/50 [==============================] - 14s 285ms/step - loss: 1.2603 - sparse_categorical_accuracy: 0.4549 - val_loss: 1.2696 - val_sparse_categorical_accuracy: 0.4656\n",
            "Epoch 47/50\n",
            "50/50 [==============================] - 14s 283ms/step - loss: 1.2577 - sparse_categorical_accuracy: 0.4561 - val_loss: 1.3125 - val_sparse_categorical_accuracy: 0.4647\n",
            "Epoch 48/50\n",
            "50/50 [==============================] - 14s 286ms/step - loss: 1.2559 - sparse_categorical_accuracy: 0.4580 - val_loss: 1.3171 - val_sparse_categorical_accuracy: 0.4646\n",
            "Epoch 49/50\n",
            "50/50 [==============================] - 19s 372ms/step - loss: 1.2579 - sparse_categorical_accuracy: 0.4584 - val_loss: 1.2916 - val_sparse_categorical_accuracy: 0.4649\n",
            "Epoch 50/50\n",
            "50/50 [==============================] - 14s 288ms/step - loss: 1.2540 - sparse_categorical_accuracy: 0.4583 - val_loss: 1.2670 - val_sparse_categorical_accuracy: 0.4660\n"
          ]
        }
      ]
    },
    {
      "cell_type": "markdown",
      "source": [
        "Training and Validation Plots and Values"
      ],
      "metadata": {
        "id": "EFkBq-Kc-bMS"
      },
      "id": "EFkBq-Kc-bMS"
    },
    {
      "cell_type": "code",
      "source": [
        "print(history.history.keys())\n",
        "plt.plot(history.history['sparse_categorical_accuracy'])\n",
        "plt.plot(history.history['val_sparse_categorical_accuracy'])\n",
        "plt.title('model accuracy')\n",
        "plt.ylabel('accuracy')\n",
        "plt.xlabel('epoch')\n",
        "plt.legend(['train', 'val'], loc='upper left')\n",
        "plt.show()\n",
        "\n",
        "plt.plot(history.history['loss'])\n",
        "plt.plot(history.history['val_loss'])\n",
        "plt.title('model loss')\n",
        "plt.ylabel('loss')\n",
        "plt.xlabel('epoch')\n",
        "plt.legend(['train', 'val'], loc='upper left')\n",
        "plt.show()\n",
        "\n",
        "print(\"val accuracy: \")\n",
        "print(numpy.max(history.history['val_sparse_categorical_accuracy']))\n",
        "print(\"accuracy: \")\n",
        "print(numpy.max(history.history['sparse_categorical_accuracy']))\n",
        "print(\"val loss: \")\n",
        "print(numpy.min(history.history['val_loss']))\n",
        "print(\"train loss: \")\n",
        "print(numpy.min(history.history['loss']))"
      ],
      "metadata": {
        "id": "zFRY1JaRWm1P",
        "colab": {
          "base_uri": "https://localhost:8080/",
          "height": 729
        },
        "outputId": "411161c3-e595-472a-e6fd-df08573c62ba"
      },
      "id": "zFRY1JaRWm1P",
      "execution_count": null,
      "outputs": [
        {
          "output_type": "stream",
          "name": "stdout",
          "text": [
            "dict_keys(['loss', 'sparse_categorical_accuracy', 'val_loss', 'val_sparse_categorical_accuracy'])\n"
          ]
        },
        {
          "output_type": "display_data",
          "data": {
            "text/plain": [
              "<Figure size 432x288 with 1 Axes>"
            ],
            "image/png": "[encoded data removed]"
          },
          "metadata": {
            "needs_background": "light"
          }
        },
        {
          "output_type": "display_data",
          "data": {
            "text/plain": [
              "<Figure size 432x288 with 1 Axes>"
            ],
            "image/png": "[encoded data removed]"
          },
          "metadata": {
            "needs_background": "light"
          }
        },
        {
          "output_type": "stream",
          "name": "stdout",
          "text": [
            "val accuracy: \n",
            "0.4723884165287018\n",
            "accuracy: \n",
            "0.4583941698074341\n",
            "val loss: \n",
            "1.2347544431686401\n",
            "train loss: \n",
            "1.2540472745895386\n"
          ]
        }
      ]
    },
    {
      "cell_type": "markdown",
      "source": [
        "Test Loss and Accuracy"
      ],
      "metadata": {
        "id": "EvR6r8zI-7gG"
      },
      "id": "EvR6r8zI-7gG"
    },
    {
      "cell_type": "code",
      "source": [
        "loss,accuracy = model.evaluate(test_data)\n",
        "print(\"Loss: \"+str(loss))\n",
        "print(\"Accuracy: \"+str(accuracy))"
      ],
      "metadata": {
        "id": "dxGxuNbXWmiw",
        "colab": {
          "base_uri": "https://localhost:8080/"
        },
        "outputId": "48d05ded-b123-4486-bf14-fa4ee1b062f8"
      },
      "id": "dxGxuNbXWmiw",
      "execution_count": null,
      "outputs": [
        {
          "output_type": "stream",
          "name": "stdout",
          "text": [
            "286/286 [==============================] - 41s 143ms/step - loss: 1.4740 - sparse_categorical_accuracy: 0.3894\n",
            "Loss: 1.4739576578140259\n",
            "Accuracy: 0.3894118368625641\n"
          ]
        }
      ]
    },
    {
      "cell_type": "code",
      "source": [
        "def predictConv(NumpArray):\n",
        "  FourierTransf = tf.math.abs(tf.signal.stft(NumpArray,64,32))\n",
        "  input = (np.array([NumpArray.shape[0]]),np.array([FourierTransf]))\n",
        "  prev = model.predict(input)\n",
        "  return prev\n",
        "filename = \"49631_AV_sigTarg.npy\"\n",
        "read = np.load(dirteste+filename)\n",
        "atributos = read[0]\n",
        "print(\"Atributos\"+str(atributos))\n",
        "\n",
        "predic = predictConv(atributos)\n",
        "print(predic)\n",
        "previsaoArgMax=tf.argmax(predic,axis=-1)"
      ],
      "metadata": {
        "id": "5lbOeTFguyzL",
        "colab": {
          "base_uri": "https://localhost:8080/"
        },
        "outputId": "32348c13-ffd1-41de-bdcc-8bd0e81cabe1"
      },
      "id": "5lbOeTFguyzL",
      "execution_count": null,
      "outputs": [
        {
          "output_type": "stream",
          "name": "stdout",
          "text": [
            "Atributos[  281. -1174. -1942. ... -3357.  1983.  4854.]\n",
            "[[[0.00953275 0.06378359 0.06190815 0.18587334 0.6789021 ]\n",
            "  [0.00953275 0.06378359 0.06190815 0.18587334 0.6789021 ]\n",
            "  [0.00953275 0.06378359 0.06190815 0.18587334 0.6789021 ]\n",
            "  ...\n",
            "  [0.19853213 0.20610018 0.2119317  0.15682903 0.22660698]\n",
            "  [0.19853213 0.20610018 0.2119317  0.15682903 0.22660698]\n",
            "  [0.19853213 0.20610018 0.2119317  0.15682903 0.22660698]]]\n"
          ]
        }
      ]
    },
    {
      "cell_type": "markdown",
      "source": [
        "Predict Graph"
      ],
      "metadata": {
        "id": "AGEDPRTMFXOY"
      },
      "id": "AGEDPRTMFXOY"
    },
    {
      "cell_type": "code",
      "source": [
        "plt.plot(previsaoArgMax[0][:10000])\n",
        "plt.plot(atributos[0:10000]/3000)\n",
        "plt.show()\n",
        "\n",
        "plt.plot(previsaoArgMax[0][:4000])\n",
        "plt.plot(atributos[0:4000]/3000)\n",
        "plt.show()"
      ],
      "metadata": {
        "id": "DEnuIK5huydh",
        "colab": {
          "base_uri": "https://localhost:8080/",
          "height": 513
        },
        "outputId": "acc0ae06-487a-4a4b-8f63-1754946c53ad"
      },
      "id": "DEnuIK5huydh",
      "execution_count": null,
      "outputs": [
        {
          "output_type": "display_data",
          "data": {
            "text/plain": [
              "<Figure size 432x288 with 1 Axes>"
            ],
            "image/png": "[encoded data removed]"
          },
          "metadata": {
            "needs_background": "light"
          }
        },
        {
          "output_type": "display_data",
          "data": {
            "text/plain": [
              "<Figure size 432x288 with 1 Axes>"
            ],
            "image/png": "[encoded data removed]"
          },
          "metadata": {
            "needs_background": "light"
          }
        }
      ]
    },
    {
      "cell_type": "markdown",
      "source": [
        "# **RECURRENT**"
      ],
      "metadata": {
        "id": "UueQlnoOWoBB"
      },
      "id": "UueQlnoOWoBB"
    },
    {
      "cell_type": "code",
      "source": [
        "import keras\n",
        "from tensorflow.keras.utils import plot_model\n",
        "from tensorflow.keras.layers import BatchNormalization,Conv2D, Conv1D,MaxPooling1D, TimeDistributed, Concatenate\n",
        "from tensorflow.keras.layers import Activation, Flatten, Dropout, Dense, Reshape, UpSampling1D, Input, LSTM, SpatialDropout1D\n",
        "from tensorflow.keras.optimizers import SGD, Adam\n",
        "\n",
        "\n",
        "input_1 = Input(shape=[], name='cutting_layer')\n",
        "input_ = Input(shape=(None,33))\n",
        "#input_2 = Dense(500,activation='ReLU')(input_)\n",
        "\n",
        "layer = Conv1D(32,kernel_size=3, activation='ReLU')(input_)\n",
        "layer = BatchNormalization()(layer)\n",
        "layer = SpatialDropout1D(0.3)(layer)\n",
        "layer = MaxPooling1D(pool_size=2)(layer)\n",
        "\n",
        "layer = Conv1D(64,kernel_size=3, activation='ReLU')(layer)\n",
        "layer = BatchNormalization()(layer)\n",
        "layer = SpatialDropout1D(0.3)(layer)\n",
        "layer = MaxPooling1D(pool_size=2)(layer)\n",
        "\n",
        "layer = Conv1D(128,kernel_size=3, activation='ReLU')(layer)\n",
        "layer = BatchNormalization()(layer)\n",
        "layer = SpatialDropout1D(0.3)(layer)\n",
        "layer = MaxPooling1D(pool_size=2)(layer)\n",
        "\n",
        "layer = Conv1D(128,kernel_size=4, activation='ReLU')(layer)\n",
        "layer = BatchNormalization()(layer)\n",
        "layer = SpatialDropout1D(0.3)(layer)\n",
        "layer = MaxPooling1D(pool_size=2)(layer)\n",
        "\n",
        "layer = LSTM(128, return_sequences=True, recurrent_dropout=0.2)(layer)\n",
        "#layer = SpatialDropout1D(0.3)(layer)\n",
        "#layer = LSTM(128, return_sequences=True)(layer)\n",
        "layer = LSTM(128, return_sequences=True, recurrent_dropout=0.2)(layer)\n",
        "\n",
        "\n",
        "p=35\n",
        "layer = TimeDistributed(Dense(p))(layer)\n",
        "layer = Reshape((-1,5))(layer)\n",
        "layer = UpSampling1D(size=(100))(layer)\n",
        "A=tf.reduce_max(input_1)\n",
        "A=tf.cast(A,tf.int32)\n",
        "print(A)\n",
        "layer = layer[:,:A]\n",
        "layer = SpatialDropout1D(0.3)(layer)\n",
        "layer = Activation(\"softmax\")(layer)\n",
        "\n",
        "\n",
        "\n",
        "\n",
        "model = keras.Model(inputs=([input_1, input_]), outputs=layer)\n",
        "\n",
        "\n",
        "plot_model(model, to_file='model_Conv_1.png', show_shapes=True)\n",
        "\n",
        "\n",
        "#O=model(ex3[0])\n",
        "#print(O)\n",
        "\n",
        "INIT_LR = 0.0001\n",
        "NUM_EPOCHS = 100\n",
        "#opt = SGD(learning_rate=INIT_LR)\n",
        "opt=Adam()\n",
        "model.compile(metrics = ['sparse_categorical_accuracy'],loss=tf.keras.losses.SparseCategoricalCrossentropy(), optimizer=opt)\n",
        "\n",
        "\n",
        "model.summary()\n",
        "\n",
        "history = model.fit(train_data_full, validation_data=val_data_full, epochs=NUM_EPOCHS)"
      ],
      "metadata": {
        "colab": {
          "base_uri": "https://localhost:8080/"
        },
        "id": "Jk3pULTNSNhz",
        "outputId": "f79d16b3-3981-4244-c26c-357cb094e32d"
      },
      "id": "Jk3pULTNSNhz",
      "execution_count": null,
      "outputs": [
        {
          "output_type": "stream",
          "name": "stdout",
          "text": [
            "WARNING:tensorflow:Layer lstm_2 will not use cuDNN kernels since it doesn't meet the criteria. It will use a generic GPU kernel as fallback when running on GPU.\n",
            "WARNING:tensorflow:Layer lstm_3 will not use cuDNN kernels since it doesn't meet the criteria. It will use a generic GPU kernel as fallback when running on GPU.\n",
            "KerasTensor(type_spec=TensorSpec(shape=(), dtype=tf.int32, name=None), inferred_value=[None], name='tf.cast_1/Cast:0', description=\"created by layer 'tf.cast_1'\")\n",
            "Model: \"model_1\"\n",
            "__________________________________________________________________________________________________\n",
            " Layer (type)                   Output Shape         Param #     Connected to                     \n",
            "==================================================================================================\n",
            " input_2 (InputLayer)           [(None, None, 33)]   0           []                               \n",
            "                                                                                                  \n",
            " conv1d_4 (Conv1D)              (None, None, 32)     3200        ['input_2[0][0]']                \n",
            "                                                                                                  \n",
            " batch_normalization_4 (BatchNo  (None, None, 32)    128         ['conv1d_4[0][0]']               \n",
            " rmalization)                                                                                     \n",
            "                                                                                                  \n",
            " spatial_dropout1d_5 (SpatialDr  (None, None, 32)    0           ['batch_normalization_4[0][0]']  \n",
            " opout1D)                                                                                         \n",
            "                                                                                                  \n",
            " max_pooling1d_4 (MaxPooling1D)  (None, None, 32)    0           ['spatial_dropout1d_5[0][0]']    \n",
            "                                                                                                  \n",
            " conv1d_5 (Conv1D)              (None, None, 64)     6208        ['max_pooling1d_4[0][0]']        \n",
            "                                                                                                  \n",
            " batch_normalization_5 (BatchNo  (None, None, 64)    256         ['conv1d_5[0][0]']               \n",
            " rmalization)                                                                                     \n",
            "                                                                                                  \n",
            " spatial_dropout1d_6 (SpatialDr  (None, None, 64)    0           ['batch_normalization_5[0][0]']  \n",
            " opout1D)                                                                                         \n",
            "                                                                                                  \n",
            " max_pooling1d_5 (MaxPooling1D)  (None, None, 64)    0           ['spatial_dropout1d_6[0][0]']    \n",
            "                                                                                                  \n",
            " conv1d_6 (Conv1D)              (None, None, 128)    24704       ['max_pooling1d_5[0][0]']        \n",
            "                                                                                                  \n",
            " batch_normalization_6 (BatchNo  (None, None, 128)   512         ['conv1d_6[0][0]']               \n",
            " rmalization)                                                                                     \n",
            "                                                                                                  \n",
            " spatial_dropout1d_7 (SpatialDr  (None, None, 128)   0           ['batch_normalization_6[0][0]']  \n",
            " opout1D)                                                                                         \n",
            "                                                                                                  \n",
            " max_pooling1d_6 (MaxPooling1D)  (None, None, 128)   0           ['spatial_dropout1d_7[0][0]']    \n",
            "                                                                                                  \n",
            " conv1d_7 (Conv1D)              (None, None, 128)    65664       ['max_pooling1d_6[0][0]']        \n",
            "                                                                                                  \n",
            " batch_normalization_7 (BatchNo  (None, None, 128)   512         ['conv1d_7[0][0]']               \n",
            " rmalization)                                                                                     \n",
            "                                                                                                  \n",
            " spatial_dropout1d_8 (SpatialDr  (None, None, 128)   0           ['batch_normalization_7[0][0]']  \n",
            " opout1D)                                                                                         \n",
            "                                                                                                  \n",
            " max_pooling1d_7 (MaxPooling1D)  (None, None, 128)   0           ['spatial_dropout1d_8[0][0]']    \n",
            "                                                                                                  \n",
            " lstm_2 (LSTM)                  (None, None, 128)    131584      ['max_pooling1d_7[0][0]']        \n",
            "                                                                                                  \n",
            " lstm_3 (LSTM)                  (None, None, 128)    131584      ['lstm_2[0][0]']                 \n",
            "                                                                                                  \n",
            " time_distributed_1 (TimeDistri  (None, None, 35)    4515        ['lstm_3[0][0]']                 \n",
            " buted)                                                                                           \n",
            "                                                                                                  \n",
            " cutting_layer (InputLayer)     [(None,)]            0           []                               \n",
            "                                                                                                  \n",
            " reshape_1 (Reshape)            (None, None, 5)      0           ['time_distributed_1[0][0]']     \n",
            "                                                                                                  \n",
            " tf.math.reduce_max_1 (TFOpLamb  ()                  0           ['cutting_layer[0][0]']          \n",
            " da)                                                                                              \n",
            "                                                                                                  \n",
            " up_sampling1d_1 (UpSampling1D)  (None, None, 5)     0           ['reshape_1[0][0]']              \n",
            "                                                                                                  \n",
            " tf.cast_1 (TFOpLambda)         ()                   0           ['tf.math.reduce_max_1[0][0]']   \n",
            "                                                                                                  \n",
            " tf.__operators__.getitem_1 (Sl  (None, None, 5)     0           ['up_sampling1d_1[0][0]',        \n",
            " icingOpLambda)                                                   'tf.cast_1[0][0]']              \n",
            "                                                                                                  \n",
            " spatial_dropout1d_9 (SpatialDr  (None, None, 5)     0           ['tf.__operators__.getitem_1[0][0\n",
            " opout1D)                                                        ]']                              \n",
            "                                                                                                  \n",
            " activation_1 (Activation)      (None, None, 5)      0           ['spatial_dropout1d_9[0][0]']    \n",
            "                                                                                                  \n",
            "==================================================================================================\n",
            "Total params: 368,867\n",
            "Trainable params: 368,163\n",
            "Non-trainable params: 704\n",
            "__________________________________________________________________________________________________\n",
            "Epoch 1/100\n",
            "50/50 [==============================] - 534s 10s/step - loss: 1.3872 - sparse_categorical_accuracy: 0.3994 - val_loss: 1.3720 - val_sparse_categorical_accuracy: 0.3453\n",
            "Epoch 2/100\n",
            "50/50 [==============================] - 44s 879ms/step - loss: 1.3044 - sparse_categorical_accuracy: 0.4339 - val_loss: 1.3298 - val_sparse_categorical_accuracy: 0.4098\n",
            "Epoch 3/100\n",
            "50/50 [==============================] - 43s 854ms/step - loss: 1.2852 - sparse_categorical_accuracy: 0.4365 - val_loss: 1.2651 - val_sparse_categorical_accuracy: 0.4376\n",
            "Epoch 4/100\n",
            "50/50 [==============================] - 42s 845ms/step - loss: 1.2743 - sparse_categorical_accuracy: 0.4432 - val_loss: 1.1947 - val_sparse_categorical_accuracy: 0.4802\n",
            "Epoch 5/100\n",
            "50/50 [==============================] - 44s 881ms/step - loss: 1.2686 - sparse_categorical_accuracy: 0.4423 - val_loss: 1.1952 - val_sparse_categorical_accuracy: 0.4802\n",
            "Epoch 6/100\n",
            "50/50 [==============================] - 42s 847ms/step - loss: 1.2644 - sparse_categorical_accuracy: 0.4451 - val_loss: 1.1881 - val_sparse_categorical_accuracy: 0.4782\n",
            "Epoch 7/100\n",
            "50/50 [==============================] - 43s 853ms/step - loss: 1.2621 - sparse_categorical_accuracy: 0.4451 - val_loss: 1.1886 - val_sparse_categorical_accuracy: 0.4795\n",
            "Epoch 8/100\n",
            "50/50 [==============================] - 42s 842ms/step - loss: 1.2782 - sparse_categorical_accuracy: 0.4408 - val_loss: 1.2051 - val_sparse_categorical_accuracy: 0.4642\n",
            "Epoch 9/100\n",
            "50/50 [==============================] - 43s 865ms/step - loss: 1.2641 - sparse_categorical_accuracy: 0.4450 - val_loss: 1.1834 - val_sparse_categorical_accuracy: 0.4835\n",
            "Epoch 10/100\n",
            "50/50 [==============================] - 42s 847ms/step - loss: 1.2580 - sparse_categorical_accuracy: 0.4489 - val_loss: 1.1839 - val_sparse_categorical_accuracy: 0.4856\n",
            "Epoch 11/100\n",
            "50/50 [==============================] - 43s 854ms/step - loss: 1.2608 - sparse_categorical_accuracy: 0.4477 - val_loss: 1.1811 - val_sparse_categorical_accuracy: 0.4824\n",
            "Epoch 12/100\n",
            "50/50 [==============================] - 43s 853ms/step - loss: 1.2590 - sparse_categorical_accuracy: 0.4475 - val_loss: 1.1787 - val_sparse_categorical_accuracy: 0.4841\n",
            "Epoch 13/100\n",
            "50/50 [==============================] - 45s 891ms/step - loss: 1.2508 - sparse_categorical_accuracy: 0.4497 - val_loss: 1.1763 - val_sparse_categorical_accuracy: 0.4880\n",
            "Epoch 14/100\n",
            "50/50 [==============================] - 43s 851ms/step - loss: 1.2510 - sparse_categorical_accuracy: 0.4519 - val_loss: 1.1731 - val_sparse_categorical_accuracy: 0.4868\n",
            "Epoch 15/100\n",
            "50/50 [==============================] - 43s 863ms/step - loss: 1.2477 - sparse_categorical_accuracy: 0.4487 - val_loss: 1.1729 - val_sparse_categorical_accuracy: 0.4873\n",
            "Epoch 16/100\n",
            "50/50 [==============================] - 43s 850ms/step - loss: 1.2511 - sparse_categorical_accuracy: 0.4505 - val_loss: 1.1706 - val_sparse_categorical_accuracy: 0.4865\n",
            "Epoch 17/100\n",
            "50/50 [==============================] - 45s 908ms/step - loss: 1.2462 - sparse_categorical_accuracy: 0.4550 - val_loss: 1.1697 - val_sparse_categorical_accuracy: 0.4888\n",
            "Epoch 18/100\n",
            "50/50 [==============================] - 43s 852ms/step - loss: 1.2427 - sparse_categorical_accuracy: 0.4522 - val_loss: 1.1693 - val_sparse_categorical_accuracy: 0.4850\n",
            "Epoch 19/100\n",
            "50/50 [==============================] - 42s 851ms/step - loss: 1.2414 - sparse_categorical_accuracy: 0.4554 - val_loss: 1.1668 - val_sparse_categorical_accuracy: 0.4890\n",
            "Epoch 20/100\n",
            "50/50 [==============================] - 42s 837ms/step - loss: 1.2343 - sparse_categorical_accuracy: 0.4566 - val_loss: 1.1657 - val_sparse_categorical_accuracy: 0.4908\n",
            "Epoch 21/100\n",
            "50/50 [==============================] - 44s 877ms/step - loss: 1.2476 - sparse_categorical_accuracy: 0.4533 - val_loss: 1.1651 - val_sparse_categorical_accuracy: 0.4919\n",
            "Epoch 22/100\n",
            "50/50 [==============================] - 42s 848ms/step - loss: 1.2425 - sparse_categorical_accuracy: 0.4548 - val_loss: 1.1614 - val_sparse_categorical_accuracy: 0.4937\n",
            "Epoch 23/100\n",
            "50/50 [==============================] - 42s 849ms/step - loss: 1.2415 - sparse_categorical_accuracy: 0.4567 - val_loss: 1.1587 - val_sparse_categorical_accuracy: 0.4946\n",
            "Epoch 24/100\n",
            "50/50 [==============================] - 43s 851ms/step - loss: 1.2392 - sparse_categorical_accuracy: 0.4567 - val_loss: 1.1577 - val_sparse_categorical_accuracy: 0.4953\n",
            "Epoch 25/100\n",
            "50/50 [==============================] - 43s 860ms/step - loss: 1.2291 - sparse_categorical_accuracy: 0.4613 - val_loss: 1.1510 - val_sparse_categorical_accuracy: 0.4986\n",
            "Epoch 26/100\n",
            "50/50 [==============================] - 43s 854ms/step - loss: 1.2281 - sparse_categorical_accuracy: 0.4619 - val_loss: 1.1402 - val_sparse_categorical_accuracy: 0.5073\n",
            "Epoch 27/100\n",
            "50/50 [==============================] - 42s 850ms/step - loss: 1.2153 - sparse_categorical_accuracy: 0.4708 - val_loss: 1.1252 - val_sparse_categorical_accuracy: 0.5154\n",
            "Epoch 28/100\n",
            "50/50 [==============================] - 43s 855ms/step - loss: 1.2015 - sparse_categorical_accuracy: 0.4782 - val_loss: 1.1041 - val_sparse_categorical_accuracy: 0.5267\n",
            "Epoch 29/100\n",
            "50/50 [==============================] - 43s 860ms/step - loss: 1.1892 - sparse_categorical_accuracy: 0.4857 - val_loss: 1.0800 - val_sparse_categorical_accuracy: 0.5393\n",
            "Epoch 30/100\n",
            "50/50 [==============================] - 42s 844ms/step - loss: 1.1677 - sparse_categorical_accuracy: 0.4953 - val_loss: 1.0571 - val_sparse_categorical_accuracy: 0.5511\n",
            "Epoch 31/100\n",
            "50/50 [==============================] - 42s 845ms/step - loss: 1.1557 - sparse_categorical_accuracy: 0.4958 - val_loss: 1.0402 - val_sparse_categorical_accuracy: 0.5590\n",
            "Epoch 32/100\n",
            "50/50 [==============================] - 42s 848ms/step - loss: 1.1399 - sparse_categorical_accuracy: 0.5076 - val_loss: 1.0127 - val_sparse_categorical_accuracy: 0.5721\n",
            "Epoch 33/100\n",
            "50/50 [==============================] - 43s 859ms/step - loss: 1.1232 - sparse_categorical_accuracy: 0.5146 - val_loss: 1.0004 - val_sparse_categorical_accuracy: 0.5754\n",
            "Epoch 34/100\n",
            "50/50 [==============================] - 42s 847ms/step - loss: 1.1080 - sparse_categorical_accuracy: 0.5251 - val_loss: 0.9859 - val_sparse_categorical_accuracy: 0.5834\n",
            "Epoch 35/100\n",
            "50/50 [==============================] - 43s 854ms/step - loss: 1.1016 - sparse_categorical_accuracy: 0.5265 - val_loss: 0.9652 - val_sparse_categorical_accuracy: 0.5957\n",
            "Epoch 36/100\n",
            "50/50 [==============================] - 42s 848ms/step - loss: 1.0909 - sparse_categorical_accuracy: 0.5348 - val_loss: 0.9618 - val_sparse_categorical_accuracy: 0.5949\n",
            "Epoch 37/100\n",
            "50/50 [==============================] - 42s 841ms/step - loss: 1.0767 - sparse_categorical_accuracy: 0.5387 - val_loss: 0.9427 - val_sparse_categorical_accuracy: 0.6100\n",
            "Epoch 38/100\n",
            "50/50 [==============================] - 42s 842ms/step - loss: 1.0637 - sparse_categorical_accuracy: 0.5453 - val_loss: 0.9397 - val_sparse_categorical_accuracy: 0.6128\n",
            "Epoch 39/100\n",
            "50/50 [==============================] - 42s 837ms/step - loss: 1.0719 - sparse_categorical_accuracy: 0.5418 - val_loss: 0.9227 - val_sparse_categorical_accuracy: 0.6177\n",
            "Epoch 40/100\n",
            "50/50 [==============================] - 42s 844ms/step - loss: 1.0614 - sparse_categorical_accuracy: 0.5443 - val_loss: 0.9236 - val_sparse_categorical_accuracy: 0.6186\n",
            "Epoch 41/100\n",
            "50/50 [==============================] - 42s 847ms/step - loss: 1.0460 - sparse_categorical_accuracy: 0.5528 - val_loss: 0.9108 - val_sparse_categorical_accuracy: 0.6232\n",
            "Epoch 42/100\n",
            "50/50 [==============================] - 42s 836ms/step - loss: 1.0472 - sparse_categorical_accuracy: 0.5533 - val_loss: 0.9044 - val_sparse_categorical_accuracy: 0.6270\n",
            "Epoch 43/100\n",
            "50/50 [==============================] - 43s 868ms/step - loss: 1.0410 - sparse_categorical_accuracy: 0.5562 - val_loss: 0.8999 - val_sparse_categorical_accuracy: 0.6289\n",
            "Epoch 44/100\n",
            "50/50 [==============================] - 42s 848ms/step - loss: 1.0304 - sparse_categorical_accuracy: 0.5626 - val_loss: 0.8885 - val_sparse_categorical_accuracy: 0.6349\n",
            "Epoch 45/100\n",
            "50/50 [==============================] - 42s 847ms/step - loss: 1.0229 - sparse_categorical_accuracy: 0.5672 - val_loss: 0.8797 - val_sparse_categorical_accuracy: 0.6389\n",
            "Epoch 46/100\n",
            "50/50 [==============================] - 42s 833ms/step - loss: 1.0177 - sparse_categorical_accuracy: 0.5648 - val_loss: 0.8823 - val_sparse_categorical_accuracy: 0.6348\n",
            "Epoch 47/100\n",
            "50/50 [==============================] - 44s 875ms/step - loss: 1.0118 - sparse_categorical_accuracy: 0.5695 - val_loss: 0.8773 - val_sparse_categorical_accuracy: 0.6365\n",
            "Epoch 48/100\n",
            "50/50 [==============================] - 42s 848ms/step - loss: 1.0077 - sparse_categorical_accuracy: 0.5726 - val_loss: 0.8583 - val_sparse_categorical_accuracy: 0.6482\n",
            "Epoch 49/100\n",
            "50/50 [==============================] - 42s 848ms/step - loss: 1.0047 - sparse_categorical_accuracy: 0.5736 - val_loss: 0.8558 - val_sparse_categorical_accuracy: 0.6480\n",
            "Epoch 50/100\n",
            "50/50 [==============================] - 43s 859ms/step - loss: 0.9929 - sparse_categorical_accuracy: 0.5806 - val_loss: 0.8435 - val_sparse_categorical_accuracy: 0.6536\n",
            "Epoch 51/100\n",
            "50/50 [==============================] - 43s 865ms/step - loss: 0.9878 - sparse_categorical_accuracy: 0.5795 - val_loss: 0.8370 - val_sparse_categorical_accuracy: 0.6586\n",
            "Epoch 52/100\n",
            "50/50 [==============================] - 43s 861ms/step - loss: 0.9852 - sparse_categorical_accuracy: 0.5840 - val_loss: 0.8550 - val_sparse_categorical_accuracy: 0.6447\n",
            "Epoch 53/100\n",
            "50/50 [==============================] - 44s 872ms/step - loss: 0.9732 - sparse_categorical_accuracy: 0.5869 - val_loss: 0.8149 - val_sparse_categorical_accuracy: 0.6681\n",
            "Epoch 54/100\n",
            "50/50 [==============================] - 43s 866ms/step - loss: 0.9766 - sparse_categorical_accuracy: 0.5913 - val_loss: 0.8311 - val_sparse_categorical_accuracy: 0.6602\n",
            "Epoch 55/100\n",
            "50/50 [==============================] - 43s 853ms/step - loss: 0.9701 - sparse_categorical_accuracy: 0.5911 - val_loss: 0.8231 - val_sparse_categorical_accuracy: 0.6625\n",
            "Epoch 56/100\n",
            "50/50 [==============================] - 44s 889ms/step - loss: 0.9597 - sparse_categorical_accuracy: 0.5984 - val_loss: 0.8000 - val_sparse_categorical_accuracy: 0.6779\n",
            "Epoch 57/100\n",
            "50/50 [==============================] - 43s 864ms/step - loss: 0.9549 - sparse_categorical_accuracy: 0.5974 - val_loss: 0.8082 - val_sparse_categorical_accuracy: 0.6735\n",
            "Epoch 58/100\n",
            "50/50 [==============================] - 42s 847ms/step - loss: 0.9447 - sparse_categorical_accuracy: 0.6024 - val_loss: 0.7963 - val_sparse_categorical_accuracy: 0.6767\n",
            "Epoch 59/100\n",
            "50/50 [==============================] - 42s 847ms/step - loss: 0.9341 - sparse_categorical_accuracy: 0.6082 - val_loss: 0.7936 - val_sparse_categorical_accuracy: 0.6770\n",
            "Epoch 60/100\n",
            "50/50 [==============================] - 44s 877ms/step - loss: 0.9421 - sparse_categorical_accuracy: 0.6020 - val_loss: 0.7916 - val_sparse_categorical_accuracy: 0.6796\n",
            "Epoch 61/100\n",
            "50/50 [==============================] - 42s 843ms/step - loss: 0.9370 - sparse_categorical_accuracy: 0.6081 - val_loss: 0.7964 - val_sparse_categorical_accuracy: 0.6745\n",
            "Epoch 62/100\n",
            "50/50 [==============================] - 42s 844ms/step - loss: 0.9424 - sparse_categorical_accuracy: 0.6049 - val_loss: 0.7988 - val_sparse_categorical_accuracy: 0.6757\n",
            "Epoch 63/100\n",
            "50/50 [==============================] - 42s 848ms/step - loss: 0.9406 - sparse_categorical_accuracy: 0.6051 - val_loss: 0.7967 - val_sparse_categorical_accuracy: 0.6768\n",
            "Epoch 64/100\n",
            "50/50 [==============================] - 43s 865ms/step - loss: 0.9372 - sparse_categorical_accuracy: 0.6048 - val_loss: 0.8003 - val_sparse_categorical_accuracy: 0.6739\n",
            "Epoch 65/100\n",
            "50/50 [==============================] - 43s 855ms/step - loss: 0.9370 - sparse_categorical_accuracy: 0.6079 - val_loss: 0.7860 - val_sparse_categorical_accuracy: 0.6801\n",
            "Epoch 66/100\n",
            "50/50 [==============================] - 43s 858ms/step - loss: 0.9274 - sparse_categorical_accuracy: 0.6122 - val_loss: 0.7841 - val_sparse_categorical_accuracy: 0.6812\n",
            "Epoch 67/100\n",
            "50/50 [==============================] - 43s 851ms/step - loss: 0.9206 - sparse_categorical_accuracy: 0.6129 - val_loss: 0.7938 - val_sparse_categorical_accuracy: 0.6733\n",
            "Epoch 68/100\n",
            "50/50 [==============================] - 42s 845ms/step - loss: 0.9275 - sparse_categorical_accuracy: 0.6111 - val_loss: 0.7806 - val_sparse_categorical_accuracy: 0.6817\n",
            "Epoch 69/100\n",
            "50/50 [==============================] - 42s 838ms/step - loss: 0.9196 - sparse_categorical_accuracy: 0.6145 - val_loss: 0.7804 - val_sparse_categorical_accuracy: 0.6818\n",
            "Epoch 70/100\n",
            "50/50 [==============================] - 43s 857ms/step - loss: 0.9257 - sparse_categorical_accuracy: 0.6143 - val_loss: 0.7819 - val_sparse_categorical_accuracy: 0.6820\n",
            "Epoch 71/100\n",
            "50/50 [==============================] - 42s 838ms/step - loss: 0.9185 - sparse_categorical_accuracy: 0.6163 - val_loss: 0.7776 - val_sparse_categorical_accuracy: 0.6865\n",
            "Epoch 72/100\n",
            "50/50 [==============================] - 44s 876ms/step - loss: 0.9166 - sparse_categorical_accuracy: 0.6184 - val_loss: 0.7796 - val_sparse_categorical_accuracy: 0.6826\n",
            "Epoch 73/100\n",
            "50/50 [==============================] - 42s 846ms/step - loss: 0.9141 - sparse_categorical_accuracy: 0.6157 - val_loss: 0.7766 - val_sparse_categorical_accuracy: 0.6858\n",
            "Epoch 74/100\n",
            "50/50 [==============================] - 43s 857ms/step - loss: 0.9075 - sparse_categorical_accuracy: 0.6194 - val_loss: 0.7734 - val_sparse_categorical_accuracy: 0.6870\n",
            "Epoch 75/100\n",
            "50/50 [==============================] - 43s 860ms/step - loss: 0.9014 - sparse_categorical_accuracy: 0.6245 - val_loss: 0.7787 - val_sparse_categorical_accuracy: 0.6832\n",
            "Epoch 76/100\n",
            "50/50 [==============================] - 43s 868ms/step - loss: 0.9032 - sparse_categorical_accuracy: 0.6227 - val_loss: 0.7754 - val_sparse_categorical_accuracy: 0.6862\n",
            "Epoch 77/100\n",
            "50/50 [==============================] - 42s 841ms/step - loss: 0.8986 - sparse_categorical_accuracy: 0.6224 - val_loss: 0.7658 - val_sparse_categorical_accuracy: 0.6895\n",
            "Epoch 78/100\n",
            "50/50 [==============================] - 42s 845ms/step - loss: 0.9044 - sparse_categorical_accuracy: 0.6212 - val_loss: 0.7688 - val_sparse_categorical_accuracy: 0.6872\n",
            "Epoch 79/100\n",
            "50/50 [==============================] - 42s 845ms/step - loss: 0.8970 - sparse_categorical_accuracy: 0.6221 - val_loss: 0.7718 - val_sparse_categorical_accuracy: 0.6860\n",
            "Epoch 80/100\n",
            "50/50 [==============================] - 44s 871ms/step - loss: 0.8949 - sparse_categorical_accuracy: 0.6232 - val_loss: 0.7647 - val_sparse_categorical_accuracy: 0.6905\n",
            "Epoch 81/100\n",
            "50/50 [==============================] - 43s 859ms/step - loss: 0.8868 - sparse_categorical_accuracy: 0.6269 - val_loss: 0.7687 - val_sparse_categorical_accuracy: 0.6889\n",
            "Epoch 82/100\n",
            "50/50 [==============================] - 42s 847ms/step - loss: 0.8932 - sparse_categorical_accuracy: 0.6264 - val_loss: 0.7691 - val_sparse_categorical_accuracy: 0.6883\n",
            "Epoch 83/100\n",
            "50/50 [==============================] - 42s 842ms/step - loss: 0.8898 - sparse_categorical_accuracy: 0.6268 - val_loss: 0.7643 - val_sparse_categorical_accuracy: 0.6915\n",
            "Epoch 84/100\n",
            "50/50 [==============================] - 42s 849ms/step - loss: 0.8897 - sparse_categorical_accuracy: 0.6261 - val_loss: 0.7651 - val_sparse_categorical_accuracy: 0.6899\n",
            "Epoch 85/100\n",
            "50/50 [==============================] - 43s 855ms/step - loss: 0.8833 - sparse_categorical_accuracy: 0.6299 - val_loss: 0.7693 - val_sparse_categorical_accuracy: 0.6876\n",
            "Epoch 86/100\n",
            "50/50 [==============================] - 43s 855ms/step - loss: 0.8803 - sparse_categorical_accuracy: 0.6302 - val_loss: 0.7647 - val_sparse_categorical_accuracy: 0.6897\n",
            "Epoch 87/100\n",
            "50/50 [==============================] - 43s 867ms/step - loss: 0.8828 - sparse_categorical_accuracy: 0.6259 - val_loss: 0.7678 - val_sparse_categorical_accuracy: 0.6867\n",
            "Epoch 88/100\n",
            "50/50 [==============================] - 42s 847ms/step - loss: 0.8818 - sparse_categorical_accuracy: 0.6304 - val_loss: 0.7670 - val_sparse_categorical_accuracy: 0.6872\n",
            "Epoch 89/100\n",
            "50/50 [==============================] - 43s 850ms/step - loss: 0.8726 - sparse_categorical_accuracy: 0.6324 - val_loss: 0.7787 - val_sparse_categorical_accuracy: 0.6841\n",
            "Epoch 90/100\n",
            "50/50 [==============================] - 42s 849ms/step - loss: 0.8835 - sparse_categorical_accuracy: 0.6265 - val_loss: 0.7654 - val_sparse_categorical_accuracy: 0.6877\n",
            "Epoch 91/100\n",
            "50/50 [==============================] - 43s 854ms/step - loss: 0.8756 - sparse_categorical_accuracy: 0.6330 - val_loss: 0.7688 - val_sparse_categorical_accuracy: 0.6864\n",
            "Epoch 92/100\n",
            "50/50 [==============================] - 44s 873ms/step - loss: 0.8685 - sparse_categorical_accuracy: 0.6365 - val_loss: 0.7661 - val_sparse_categorical_accuracy: 0.6886\n",
            "Epoch 93/100\n",
            "50/50 [==============================] - 42s 848ms/step - loss: 0.8720 - sparse_categorical_accuracy: 0.6318 - val_loss: 0.7763 - val_sparse_categorical_accuracy: 0.6856\n",
            "Epoch 94/100\n",
            "50/50 [==============================] - 42s 846ms/step - loss: 0.8730 - sparse_categorical_accuracy: 0.6351 - val_loss: 0.7667 - val_sparse_categorical_accuracy: 0.6899\n",
            "Epoch 95/100\n",
            "50/50 [==============================] - 42s 845ms/step - loss: 0.8727 - sparse_categorical_accuracy: 0.6371 - val_loss: 0.7684 - val_sparse_categorical_accuracy: 0.6887\n",
            "Epoch 96/100\n",
            "50/50 [==============================] - 42s 841ms/step - loss: 0.8782 - sparse_categorical_accuracy: 0.6332 - val_loss: 0.7713 - val_sparse_categorical_accuracy: 0.6874\n",
            "Epoch 97/100\n",
            "50/50 [==============================] - 42s 847ms/step - loss: 0.8711 - sparse_categorical_accuracy: 0.6358 - val_loss: 0.7734 - val_sparse_categorical_accuracy: 0.6861\n",
            "Epoch 98/100\n",
            "50/50 [==============================] - 42s 848ms/step - loss: 0.8686 - sparse_categorical_accuracy: 0.6387 - val_loss: 0.7808 - val_sparse_categorical_accuracy: 0.6794\n",
            "Epoch 99/100\n",
            "50/50 [==============================] - 43s 855ms/step - loss: 0.8567 - sparse_categorical_accuracy: 0.6390 - val_loss: 0.7703 - val_sparse_categorical_accuracy: 0.6873\n",
            "Epoch 100/100\n",
            "50/50 [==============================] - 42s 849ms/step - loss: 0.8643 - sparse_categorical_accuracy: 0.6374 - val_loss: 0.7652 - val_sparse_categorical_accuracy: 0.6891\n"
          ]
        }
      ]
    },
    {
      "cell_type": "markdown",
      "source": [
        "Training and Validation Plots and Values"
      ],
      "metadata": {
        "id": "ts9fe2tL-hRg"
      },
      "id": "ts9fe2tL-hRg"
    },
    {
      "cell_type": "code",
      "source": [
        "print(history.history.keys())\n",
        "plt.plot(history.history['sparse_categorical_accuracy'])\n",
        "plt.plot(history.history['val_sparse_categorical_accuracy'])\n",
        "plt.title('model accuracy')\n",
        "plt.ylabel('accuracy')\n",
        "plt.xlabel('epoch')\n",
        "plt.legend(['train', 'val'], loc='upper left')\n",
        "plt.show()\n",
        "\n",
        "plt.plot(history.history['loss'])\n",
        "plt.plot(history.history['val_loss'])\n",
        "plt.title('model loss')\n",
        "plt.ylabel('loss')\n",
        "plt.xlabel('epoch')\n",
        "plt.legend(['train', 'val'], loc='upper left')\n",
        "plt.show()\n",
        "\n",
        "print(\"val accuracy: \")\n",
        "print(numpy.max(history.history['val_sparse_categorical_accuracy']))\n",
        "print(\"accuracy: \")\n",
        "print(numpy.max(history.history['sparse_categorical_accuracy']))\n",
        "print(\"val loss: \")\n",
        "print(numpy.min(history.history['val_loss']))\n",
        "print(\"train loss: \")\n",
        "print(numpy.min(history.history['loss']))"
      ],
      "metadata": {
        "id": "Jo0h_ZS71Cnx",
        "colab": {
          "base_uri": "https://localhost:8080/",
          "height": 739
        },
        "outputId": "321ab1c0-5a74-495b-a7b7-c9f9540d86c1"
      },
      "id": "Jo0h_ZS71Cnx",
      "execution_count": null,
      "outputs": [
        {
          "output_type": "stream",
          "name": "stdout",
          "text": [
            "dict_keys(['loss', 'sparse_categorical_accuracy', 'val_loss', 'val_sparse_categorical_accuracy'])\n"
          ]
        },
        {
          "output_type": "display_data",
          "data": {
            "text/plain": [
              "<Figure size 432x288 with 1 Axes>"
            ],
            "image/png": "[encoded data removed]"
          },
          "metadata": {
            "needs_background": "light"
          }
        },
        {
          "output_type": "display_data",
          "data": {
            "text/plain": [
              "<Figure size 432x288 with 1 Axes>"
            ],
            "image/png": "[encoded data removed]"
          },
          "metadata": {
            "needs_background": "light"
          }
        },
        {
          "output_type": "stream",
          "name": "stdout",
          "text": [
            "val accuracy: \n",
            "0.6915233731269836\n",
            "accuracy: \n",
            "0.638980507850647\n",
            "val loss: \n",
            "0.7643119692802429\n",
            "train loss: \n",
            "0.8566975593566895\n"
          ]
        }
      ]
    },
    {
      "cell_type": "markdown",
      "source": [
        "Test Loss and Accuracy"
      ],
      "metadata": {
        "id": "z9xwmoEy-4sw"
      },
      "id": "z9xwmoEy-4sw"
    },
    {
      "cell_type": "code",
      "source": [
        "loss,accuracy = model.evaluate(test_data)\n",
        "print(\"Loss: \"+str(loss))\n",
        "print(\"Accuracy: \"+str(accuracy))"
      ],
      "metadata": {
        "id": "uuggtpTAmzIG",
        "colab": {
          "base_uri": "https://localhost:8080/"
        },
        "outputId": "23c178aa-f6cb-46b1-deb1-9d73809ab0db"
      },
      "id": "uuggtpTAmzIG",
      "execution_count": null,
      "outputs": [
        {
          "output_type": "stream",
          "name": "stdout",
          "text": [
            "286/286 [==============================] - 67s 232ms/step - loss: 0.8572 - sparse_categorical_accuracy: 0.6343\n",
            "Loss: 0.8572496771812439\n",
            "Accuracy: 0.6342942714691162\n"
          ]
        }
      ]
    },
    {
      "cell_type": "code",
      "source": [
        "def predictConv(NumpArray):\n",
        "  FourierTransf = tf.math.abs(tf.signal.stft(NumpArray,64,32))\n",
        "  input = (np.array([NumpArray.shape[0]]),np.array([FourierTransf]))\n",
        "  prev = model.predict(input)\n",
        "  return prev\n",
        "filename = \"49631_AV_sigTarg.npy\"\n",
        "filename = \"50807_PV_sigTarg.npy\"\n",
        "print(dirteste)\n",
        "read = np.load(dirteste+filename)\n",
        "atributos = read[0]\n",
        "print(\"Atributos\"+str(atributos))\n",
        "\n",
        "predic = predictConv(atributos)\n",
        "print(predic)\n",
        "previsaoArgMax=tf.argmax(predic,axis=-1)"
      ],
      "metadata": {
        "id": "UAg3w_Z1uaBZ"
      },
      "id": "UAg3w_Z1uaBZ",
      "execution_count": null,
      "outputs": []
    },
    {
      "cell_type": "markdown",
      "source": [
        "Predict Graphs"
      ],
      "metadata": {
        "id": "4JzK9pVlFklt"
      },
      "id": "4JzK9pVlFklt"
    },
    {
      "cell_type": "code",
      "source": [
        "plt.plot(previsaoArgMax[0][:10000])\n",
        "plt.plot(atributos[0:10000]/3000)\n",
        "plt.show()\n",
        "\n",
        "plt.plot(previsaoArgMax[0][:4000])\n",
        "plt.plot(atributos[0:4000]/3000)\n",
        "plt.show()"
      ],
      "metadata": {
        "id": "w0iB2ocMunhi",
        "colab": {
          "base_uri": "https://localhost:8080/",
          "height": 513
        },
        "outputId": "84441ebb-2bee-4bff-90e2-131608de0dbd"
      },
      "id": "w0iB2ocMunhi",
      "execution_count": null,
      "outputs": [
        {
          "data": {
            "image/png": "[encoded data removed]",
            "text/plain": [
              "<Figure size 432x288 with 1 Axes>"
            ]
          },
          "metadata": {},
          "output_type": "display_data"
        },
        {
          "data": {
            "image/png": "[encoded data removed]",
            "text/plain": [
              "<Figure size 432x288 with 1 Axes>"
            ]
          },
          "metadata": {},
          "output_type": "display_data"
        }
      ]
    },
    {
      "cell_type": "markdown",
      "source": [
        "# **TRANSFORMER**"
      ],
      "metadata": {
        "id": "PrZH8_YBzs0P"
      },
      "id": "PrZH8_YBzs0P"
    },
    {
      "cell_type": "code",
      "source": [
        "from tensorflow.keras import layers\n",
        "\n",
        "class PositionEmbedding(layers.Layer):\n",
        "    def __init__(self, maxlen, embed_dim):\n",
        "        super(PositionEmbedding, self).__init__()\n",
        "        self.pos_emb = layers.Embedding(input_dim=maxlen, output_dim=embed_dim)\n",
        "\n",
        "    def call(self, x):\n",
        "        maxlen = tf.shape(x)[1]\n",
        "        batchS = tf.shape(x)[0]\n",
        "        positions = tf.range(start=0, limit=maxlen, delta=1)\n",
        "        positions = self.pos_emb(positions)\n",
        "        positions = tf.expand_dims(positions, axis = 0)\n",
        "        positions = tf.repeat(positions, batchS, axis=0)\n",
        "        return x + positions\n",
        "\n",
        "class TransformerBlock(layers.Layer):\n",
        "    def __init__(self, embed_dim, num_heads, ff_dim, rate=0.1):\n",
        "        super(TransformerBlock, self).__init__()\n",
        "        self.att = layers.MultiHeadAttention(num_heads=num_heads, key_dim=embed_dim)\n",
        "        self.ffn = keras.Sequential(\n",
        "            [layers.Dense(ff_dim, activation=\"relu\"), layers.Dense(embed_dim),]\n",
        "        )\n",
        "        self.layernorm1 = layers.LayerNormalization(epsilon=1e-6)\n",
        "        self.layernorm2 = layers.LayerNormalization(epsilon=1e-6)\n",
        "        self.dropout1 = layers.Dropout(rate)\n",
        "        self.dropout2 = layers.Dropout(rate)\n",
        "\n",
        "    def call(self, inputs, training):\n",
        "        attn_output = self.att(inputs, inputs)\n",
        "        attn_output = self.dropout1(attn_output, training=training)\n",
        "        out1 = self.layernorm1(inputs + attn_output)\n",
        "        ffn_output = self.ffn(out1)\n",
        "        ffn_output = self.dropout2(ffn_output, training=training)\n",
        "        return self.layernorm2(out1 + ffn_output)"
      ],
      "metadata": {
        "id": "Hugr44CmR0uO"
      },
      "id": "Hugr44CmR0uO",
      "execution_count": 10,
      "outputs": []
    },
    {
      "cell_type": "code",
      "source": [
        "import keras\n",
        "from tensorflow.keras.utils import plot_model\n",
        "from tensorflow.keras.layers import BatchNormalization,Conv2D, Conv1D,MaxPooling2D, TimeDistributed, SpatialDropout1D, MaxPooling1D\n",
        "from tensorflow.keras.layers import Activation, Flatten, Dropout, Dense, Reshape, UpSampling1D, Input, LSTM\n",
        "from tensorflow.keras.optimizers import SGD, Adam\n",
        "\n",
        "\n",
        "input_1 = Input(shape=[], name='tenta')\n",
        "input_ = Input(shape=(None,33))\n",
        "layer = Conv1D(32,kernel_size=2, activation='ReLU')(input_)\n",
        "layer = BatchNormalization()(layer)\n",
        "layer = SpatialDropout1D(0.2)(layer)\n",
        "layer = MaxPooling1D(pool_size=2)(layer)\n",
        "\n",
        "layer = Conv1D(64,kernel_size=3, activation='ReLU')(layer)\n",
        "layer = BatchNormalization()(layer)\n",
        "layer = SpatialDropout1D(0.2)(layer)\n",
        "layer = MaxPooling1D(pool_size=2)(layer)\n",
        "\n",
        "layer = Conv1D(128,kernel_size=4, activation='ReLU')(layer)\n",
        "layer = BatchNormalization()(layer)\n",
        "layer = SpatialDropout1D(0.2)(layer)\n",
        "layer = MaxPooling1D(pool_size=2)(layer)\n",
        "\n",
        "layer = LSTM(128,return_sequences=True,recurrent_dropout=0.1)(layer)\n",
        "\n",
        "embDim = 20\n",
        "layer = layers.TimeDistributed(layers.Dense(embDim))(layer)\n",
        "layer = PositionEmbedding(maxlen=2000, embed_dim=embDim)(layer)\n",
        "layer = TransformerBlock(embed_dim=embDim,num_heads=6, ff_dim=16)(layer)\n",
        "layer =TransformerBlock(embed_dim=embDim,num_heads=6, ff_dim=16)(layer)\n",
        "\n",
        "p=35\n",
        "layer = TimeDistributed(Dense(p))(layer)\n",
        "layer = Reshape((-1,5))(layer)\n",
        "layer = UpSampling1D(size=(60))(layer)\n",
        "A=tf.reduce_max(input_1)\n",
        "A=tf.cast(A,tf.int32)\n",
        "print(A)\n",
        "layer = layer[:,:A]\n",
        "layer = Activation(\"softmax\")(layer)\n",
        "\n",
        "model = keras.Model(inputs=([input_1, input_]), outputs=layer)\n",
        "\n",
        "plot_model(model, to_file='model_Transf.png', show_shapes=True)\n",
        "\n",
        "NUM_EPOCHS = 100\n",
        "#INIT_LR = 0.01\n",
        "#opt = SGD(learning_rate=INIT_LR, momentum=0.9, decay=INIT_LR / NUM_EPOCHS)\n",
        "opt=Adam()\n",
        "model.compile(metrics = ['sparse_categorical_accuracy'],loss=tf.keras.losses.SparseCategoricalCrossentropy(), optimizer=opt)\n",
        "\n",
        "model.summary()\n",
        "\n",
        "history = model.fit(train_data_full, validation_data=val_data_full, epochs=NUM_EPOCHS)"
      ],
      "metadata": {
        "id": "YzFuTdGLzsng",
        "colab": {
          "base_uri": "https://localhost:8080/"
        },
        "outputId": "43a20735-b7d7-4d4c-d89a-e04c6d041803"
      },
      "id": "YzFuTdGLzsng",
      "execution_count": 12,
      "outputs": [
        {
          "output_type": "stream",
          "name": "stdout",
          "text": [
            "WARNING:tensorflow:Layer lstm_1 will not use cuDNN kernels since it doesn't meet the criteria. It will use a generic GPU kernel as fallback when running on GPU.\n",
            "KerasTensor(type_spec=TensorSpec(shape=(), dtype=tf.int32, name=None), inferred_value=[None], name='tf.cast_1/Cast:0', description=\"created by layer 'tf.cast_1'\")\n",
            "Model: \"model_1\"\n",
            "__________________________________________________________________________________________________\n",
            " Layer (type)                   Output Shape         Param #     Connected to                     \n",
            "==================================================================================================\n",
            " input_2 (InputLayer)           [(None, None, 33)]   0           []                               \n",
            "                                                                                                  \n",
            " conv1d_3 (Conv1D)              (None, None, 32)     2144        ['input_2[0][0]']                \n",
            "                                                                                                  \n",
            " batch_normalization_3 (BatchNo  (None, None, 32)    128         ['conv1d_3[0][0]']               \n",
            " rmalization)                                                                                     \n",
            "                                                                                                  \n",
            " spatial_dropout1d_3 (SpatialDr  (None, None, 32)    0           ['batch_normalization_3[0][0]']  \n",
            " opout1D)                                                                                         \n",
            "                                                                                                  \n",
            " max_pooling1d_3 (MaxPooling1D)  (None, None, 32)    0           ['spatial_dropout1d_3[0][0]']    \n",
            "                                                                                                  \n",
            " conv1d_4 (Conv1D)              (None, None, 64)     6208        ['max_pooling1d_3[0][0]']        \n",
            "                                                                                                  \n",
            " batch_normalization_4 (BatchNo  (None, None, 64)    256         ['conv1d_4[0][0]']               \n",
            " rmalization)                                                                                     \n",
            "                                                                                                  \n",
            " spatial_dropout1d_4 (SpatialDr  (None, None, 64)    0           ['batch_normalization_4[0][0]']  \n",
            " opout1D)                                                                                         \n",
            "                                                                                                  \n",
            " max_pooling1d_4 (MaxPooling1D)  (None, None, 64)    0           ['spatial_dropout1d_4[0][0]']    \n",
            "                                                                                                  \n",
            " conv1d_5 (Conv1D)              (None, None, 128)    32896       ['max_pooling1d_4[0][0]']        \n",
            "                                                                                                  \n",
            " batch_normalization_5 (BatchNo  (None, None, 128)   512         ['conv1d_5[0][0]']               \n",
            " rmalization)                                                                                     \n",
            "                                                                                                  \n",
            " spatial_dropout1d_5 (SpatialDr  (None, None, 128)   0           ['batch_normalization_5[0][0]']  \n",
            " opout1D)                                                                                         \n",
            "                                                                                                  \n",
            " max_pooling1d_5 (MaxPooling1D)  (None, None, 128)   0           ['spatial_dropout1d_5[0][0]']    \n",
            "                                                                                                  \n",
            " lstm_1 (LSTM)                  (None, None, 128)    131584      ['max_pooling1d_5[0][0]']        \n",
            "                                                                                                  \n",
            " time_distributed_2 (TimeDistri  (None, None, 20)    2580        ['lstm_1[0][0]']                 \n",
            " buted)                                                                                           \n",
            "                                                                                                  \n",
            " position_embedding_1 (Position  (None, None, 20)    40000       ['time_distributed_2[0][0]']     \n",
            " Embedding)                                                                                       \n",
            "                                                                                                  \n",
            " transformer_block_2 (Transform  (None, None, 20)    10736       ['position_embedding_1[0][0]']   \n",
            " erBlock)                                                                                         \n",
            "                                                                                                  \n",
            " transformer_block_3 (Transform  (None, None, 20)    10736       ['transformer_block_2[0][0]']    \n",
            " erBlock)                                                                                         \n",
            "                                                                                                  \n",
            " time_distributed_3 (TimeDistri  (None, None, 35)    735         ['transformer_block_3[0][0]']    \n",
            " buted)                                                                                           \n",
            "                                                                                                  \n",
            " tenta (InputLayer)             [(None,)]            0           []                               \n",
            "                                                                                                  \n",
            " reshape_1 (Reshape)            (None, None, 5)      0           ['time_distributed_3[0][0]']     \n",
            "                                                                                                  \n",
            " tf.math.reduce_max_1 (TFOpLamb  ()                  0           ['tenta[0][0]']                  \n",
            " da)                                                                                              \n",
            "                                                                                                  \n",
            " up_sampling1d_1 (UpSampling1D)  (None, None, 5)     0           ['reshape_1[0][0]']              \n",
            "                                                                                                  \n",
            " tf.cast_1 (TFOpLambda)         ()                   0           ['tf.math.reduce_max_1[0][0]']   \n",
            "                                                                                                  \n",
            " tf.__operators__.getitem_1 (Sl  (None, None, 5)     0           ['up_sampling1d_1[0][0]',        \n",
            " icingOpLambda)                                                   'tf.cast_1[0][0]']              \n",
            "                                                                                                  \n",
            " activation_1 (Activation)      (None, None, 5)      0           ['tf.__operators__.getitem_1[0][0\n",
            "                                                                 ]']                              \n",
            "                                                                                                  \n",
            "==================================================================================================\n",
            "Total params: 238,515\n",
            "Trainable params: 238,067\n",
            "Non-trainable params: 448\n",
            "__________________________________________________________________________________________________\n",
            "Epoch 1/100\n",
            "50/50 [==============================] - 180s 4s/step - loss: 1.4440 - sparse_categorical_accuracy: 0.3983 - val_loss: 1.3454 - val_sparse_categorical_accuracy: 0.4406\n",
            "Epoch 2/100\n",
            "50/50 [==============================] - 47s 942ms/step - loss: 1.2698 - sparse_categorical_accuracy: 0.4740 - val_loss: 1.2044 - val_sparse_categorical_accuracy: 0.4992\n",
            "Epoch 3/100\n",
            "50/50 [==============================] - 45s 902ms/step - loss: 1.1366 - sparse_categorical_accuracy: 0.5212 - val_loss: 1.0507 - val_sparse_categorical_accuracy: 0.5450\n",
            "Epoch 4/100\n",
            "50/50 [==============================] - 46s 917ms/step - loss: 1.0672 - sparse_categorical_accuracy: 0.5386 - val_loss: 1.0333 - val_sparse_categorical_accuracy: 0.5462\n",
            "Epoch 5/100\n",
            "50/50 [==============================] - 45s 908ms/step - loss: 1.0347 - sparse_categorical_accuracy: 0.5451 - val_loss: 1.0034 - val_sparse_categorical_accuracy: 0.5517\n",
            "Epoch 6/100\n",
            "50/50 [==============================] - 45s 900ms/step - loss: 1.0136 - sparse_categorical_accuracy: 0.5492 - val_loss: 0.9848 - val_sparse_categorical_accuracy: 0.5563\n",
            "Epoch 7/100\n",
            "50/50 [==============================] - 45s 900ms/step - loss: 0.9962 - sparse_categorical_accuracy: 0.5536 - val_loss: 0.9679 - val_sparse_categorical_accuracy: 0.5594\n",
            "Epoch 8/100\n",
            "50/50 [==============================] - 46s 912ms/step - loss: 0.9877 - sparse_categorical_accuracy: 0.5563 - val_loss: 0.9619 - val_sparse_categorical_accuracy: 0.5628\n",
            "Epoch 9/100\n",
            "50/50 [==============================] - 45s 893ms/step - loss: 0.9807 - sparse_categorical_accuracy: 0.5587 - val_loss: 0.9666 - val_sparse_categorical_accuracy: 0.5611\n",
            "Epoch 10/100\n",
            "50/50 [==============================] - 47s 912ms/step - loss: 0.9800 - sparse_categorical_accuracy: 0.5600 - val_loss: 0.9606 - val_sparse_categorical_accuracy: 0.5637\n",
            "Epoch 11/100\n",
            "50/50 [==============================] - 45s 904ms/step - loss: 0.9726 - sparse_categorical_accuracy: 0.5632 - val_loss: 0.9526 - val_sparse_categorical_accuracy: 0.5697\n",
            "Epoch 12/100\n",
            "50/50 [==============================] - 45s 900ms/step - loss: 0.9725 - sparse_categorical_accuracy: 0.5644 - val_loss: 0.9481 - val_sparse_categorical_accuracy: 0.5702\n",
            "Epoch 13/100\n",
            "50/50 [==============================] - 47s 947ms/step - loss: 0.9643 - sparse_categorical_accuracy: 0.5668 - val_loss: 0.9455 - val_sparse_categorical_accuracy: 0.5730\n",
            "Epoch 14/100\n",
            "50/50 [==============================] - 45s 908ms/step - loss: 0.9626 - sparse_categorical_accuracy: 0.5675 - val_loss: 0.9413 - val_sparse_categorical_accuracy: 0.5742\n",
            "Epoch 15/100\n",
            "50/50 [==============================] - 44s 889ms/step - loss: 0.9567 - sparse_categorical_accuracy: 0.5700 - val_loss: 0.9372 - val_sparse_categorical_accuracy: 0.5756\n",
            "Epoch 16/100\n",
            "50/50 [==============================] - 46s 913ms/step - loss: 0.9562 - sparse_categorical_accuracy: 0.5705 - val_loss: 0.9359 - val_sparse_categorical_accuracy: 0.5764\n",
            "Epoch 17/100\n",
            "50/50 [==============================] - 45s 895ms/step - loss: 0.9544 - sparse_categorical_accuracy: 0.5716 - val_loss: 0.9341 - val_sparse_categorical_accuracy: 0.5781\n",
            "Epoch 18/100\n",
            "50/50 [==============================] - 45s 905ms/step - loss: 0.9532 - sparse_categorical_accuracy: 0.5729 - val_loss: 0.9361 - val_sparse_categorical_accuracy: 0.5787\n",
            "Epoch 19/100\n",
            "50/50 [==============================] - 45s 897ms/step - loss: 0.9455 - sparse_categorical_accuracy: 0.5760 - val_loss: 0.9242 - val_sparse_categorical_accuracy: 0.5827\n",
            "Epoch 20/100\n",
            "50/50 [==============================] - 45s 902ms/step - loss: 0.9413 - sparse_categorical_accuracy: 0.5779 - val_loss: 0.9221 - val_sparse_categorical_accuracy: 0.5839\n",
            "Epoch 21/100\n",
            "50/50 [==============================] - 45s 899ms/step - loss: 0.9362 - sparse_categorical_accuracy: 0.5803 - val_loss: 0.9159 - val_sparse_categorical_accuracy: 0.5871\n",
            "Epoch 22/100\n",
            "50/50 [==============================] - 46s 914ms/step - loss: 0.9349 - sparse_categorical_accuracy: 0.5820 - val_loss: 0.9129 - val_sparse_categorical_accuracy: 0.5893\n",
            "Epoch 23/100\n",
            "50/50 [==============================] - 46s 916ms/step - loss: 0.9300 - sparse_categorical_accuracy: 0.5843 - val_loss: 0.9055 - val_sparse_categorical_accuracy: 0.5943\n",
            "Epoch 24/100\n",
            "50/50 [==============================] - 44s 890ms/step - loss: 0.9199 - sparse_categorical_accuracy: 0.5889 - val_loss: 0.8947 - val_sparse_categorical_accuracy: 0.5994\n",
            "Epoch 25/100\n",
            "50/50 [==============================] - 46s 913ms/step - loss: 0.9131 - sparse_categorical_accuracy: 0.5929 - val_loss: 0.8885 - val_sparse_categorical_accuracy: 0.6029\n",
            "Epoch 26/100\n",
            "50/50 [==============================] - 45s 895ms/step - loss: 0.9079 - sparse_categorical_accuracy: 0.5957 - val_loss: 0.8810 - val_sparse_categorical_accuracy: 0.6054\n",
            "Epoch 27/100\n",
            "50/50 [==============================] - 46s 911ms/step - loss: 0.8987 - sparse_categorical_accuracy: 0.5989 - val_loss: 0.8710 - val_sparse_categorical_accuracy: 0.6105\n",
            "Epoch 28/100\n",
            "50/50 [==============================] - 44s 886ms/step - loss: 0.8898 - sparse_categorical_accuracy: 0.6031 - val_loss: 0.8705 - val_sparse_categorical_accuracy: 0.6106\n",
            "Epoch 29/100\n",
            "50/50 [==============================] - 46s 921ms/step - loss: 0.8856 - sparse_categorical_accuracy: 0.6048 - val_loss: 0.8568 - val_sparse_categorical_accuracy: 0.6152\n",
            "Epoch 30/100\n",
            "50/50 [==============================] - 46s 930ms/step - loss: 0.8770 - sparse_categorical_accuracy: 0.6087 - val_loss: 0.8487 - val_sparse_categorical_accuracy: 0.6185\n",
            "Epoch 31/100\n",
            "50/50 [==============================] - 46s 912ms/step - loss: 0.8720 - sparse_categorical_accuracy: 0.6112 - val_loss: 0.8390 - val_sparse_categorical_accuracy: 0.6236\n",
            "Epoch 32/100\n",
            "50/50 [==============================] - 45s 899ms/step - loss: 0.8611 - sparse_categorical_accuracy: 0.6167 - val_loss: 0.8355 - val_sparse_categorical_accuracy: 0.6253\n",
            "Epoch 33/100\n",
            "50/50 [==============================] - 46s 927ms/step - loss: 0.8499 - sparse_categorical_accuracy: 0.6218 - val_loss: 0.8313 - val_sparse_categorical_accuracy: 0.6267\n",
            "Epoch 34/100\n",
            "50/50 [==============================] - 46s 912ms/step - loss: 0.8450 - sparse_categorical_accuracy: 0.6253 - val_loss: 0.8181 - val_sparse_categorical_accuracy: 0.6356\n",
            "Epoch 35/100\n",
            "50/50 [==============================] - 45s 905ms/step - loss: 0.8390 - sparse_categorical_accuracy: 0.6283 - val_loss: 0.8184 - val_sparse_categorical_accuracy: 0.6336\n",
            "Epoch 36/100\n",
            "50/50 [==============================] - 45s 909ms/step - loss: 0.8306 - sparse_categorical_accuracy: 0.6315 - val_loss: 0.8107 - val_sparse_categorical_accuracy: 0.6364\n",
            "Epoch 37/100\n",
            "50/50 [==============================] - 45s 900ms/step - loss: 0.8235 - sparse_categorical_accuracy: 0.6345 - val_loss: 0.8046 - val_sparse_categorical_accuracy: 0.6405\n",
            "Epoch 38/100\n",
            "50/50 [==============================] - 45s 897ms/step - loss: 0.8199 - sparse_categorical_accuracy: 0.6365 - val_loss: 0.7955 - val_sparse_categorical_accuracy: 0.6451\n",
            "Epoch 39/100\n",
            "50/50 [==============================] - 46s 922ms/step - loss: 0.8118 - sparse_categorical_accuracy: 0.6404 - val_loss: 0.8044 - val_sparse_categorical_accuracy: 0.6386\n",
            "Epoch 40/100\n",
            "50/50 [==============================] - 44s 882ms/step - loss: 0.8042 - sparse_categorical_accuracy: 0.6435 - val_loss: 0.7920 - val_sparse_categorical_accuracy: 0.6463\n",
            "Epoch 41/100\n",
            "50/50 [==============================] - 45s 893ms/step - loss: 0.7982 - sparse_categorical_accuracy: 0.6458 - val_loss: 0.7839 - val_sparse_categorical_accuracy: 0.6517\n",
            "Epoch 42/100\n",
            "50/50 [==============================] - 45s 899ms/step - loss: 0.7892 - sparse_categorical_accuracy: 0.6510 - val_loss: 0.7702 - val_sparse_categorical_accuracy: 0.6591\n",
            "Epoch 43/100\n",
            "50/50 [==============================] - 44s 890ms/step - loss: 0.7833 - sparse_categorical_accuracy: 0.6553 - val_loss: 0.7700 - val_sparse_categorical_accuracy: 0.6602\n",
            "Epoch 44/100\n",
            "50/50 [==============================] - 45s 907ms/step - loss: 0.7792 - sparse_categorical_accuracy: 0.6567 - val_loss: 0.7760 - val_sparse_categorical_accuracy: 0.6574\n",
            "Epoch 45/100\n",
            "50/50 [==============================] - 45s 905ms/step - loss: 0.7939 - sparse_categorical_accuracy: 0.6523 - val_loss: 0.7885 - val_sparse_categorical_accuracy: 0.6515\n",
            "Epoch 46/100\n",
            "50/50 [==============================] - 47s 930ms/step - loss: 0.7777 - sparse_categorical_accuracy: 0.6603 - val_loss: 0.7499 - val_sparse_categorical_accuracy: 0.6736\n",
            "Epoch 47/100\n",
            "50/50 [==============================] - 46s 911ms/step - loss: 0.7684 - sparse_categorical_accuracy: 0.6640 - val_loss: 0.7575 - val_sparse_categorical_accuracy: 0.6682\n",
            "Epoch 48/100\n",
            "50/50 [==============================] - 45s 893ms/step - loss: 0.7597 - sparse_categorical_accuracy: 0.6675 - val_loss: 0.7645 - val_sparse_categorical_accuracy: 0.6641\n",
            "Epoch 49/100\n",
            "50/50 [==============================] - 45s 905ms/step - loss: 0.7530 - sparse_categorical_accuracy: 0.6706 - val_loss: 0.7603 - val_sparse_categorical_accuracy: 0.6676\n",
            "Epoch 50/100\n",
            "50/50 [==============================] - 46s 915ms/step - loss: 0.7479 - sparse_categorical_accuracy: 0.6735 - val_loss: 0.7641 - val_sparse_categorical_accuracy: 0.6627\n",
            "Epoch 51/100\n",
            "50/50 [==============================] - 45s 896ms/step - loss: 0.7431 - sparse_categorical_accuracy: 0.6760 - val_loss: 0.7527 - val_sparse_categorical_accuracy: 0.6716\n",
            "Epoch 52/100\n",
            "50/50 [==============================] - 44s 880ms/step - loss: 0.7445 - sparse_categorical_accuracy: 0.6754 - val_loss: 0.7502 - val_sparse_categorical_accuracy: 0.6748\n",
            "Epoch 53/100\n",
            "50/50 [==============================] - 45s 900ms/step - loss: 0.7432 - sparse_categorical_accuracy: 0.6750 - val_loss: 0.7569 - val_sparse_categorical_accuracy: 0.6704\n",
            "Epoch 54/100\n",
            "50/50 [==============================] - 44s 885ms/step - loss: 0.7395 - sparse_categorical_accuracy: 0.6792 - val_loss: 0.7379 - val_sparse_categorical_accuracy: 0.6814\n",
            "Epoch 55/100\n",
            "50/50 [==============================] - 45s 899ms/step - loss: 0.7326 - sparse_categorical_accuracy: 0.6804 - val_loss: 0.7531 - val_sparse_categorical_accuracy: 0.6728\n",
            "Epoch 56/100\n",
            "50/50 [==============================] - 45s 899ms/step - loss: 0.7311 - sparse_categorical_accuracy: 0.6816 - val_loss: 0.7381 - val_sparse_categorical_accuracy: 0.6787\n",
            "Epoch 57/100\n",
            "50/50 [==============================] - 45s 905ms/step - loss: 0.7202 - sparse_categorical_accuracy: 0.6872 - val_loss: 0.7372 - val_sparse_categorical_accuracy: 0.6820\n",
            "Epoch 58/100\n",
            "50/50 [==============================] - 46s 924ms/step - loss: 0.7192 - sparse_categorical_accuracy: 0.6875 - val_loss: 0.7314 - val_sparse_categorical_accuracy: 0.6833\n",
            "Epoch 59/100\n",
            "50/50 [==============================] - 45s 899ms/step - loss: 0.7134 - sparse_categorical_accuracy: 0.6906 - val_loss: 0.7354 - val_sparse_categorical_accuracy: 0.6830\n",
            "Epoch 60/100\n",
            "50/50 [==============================] - 45s 909ms/step - loss: 0.7150 - sparse_categorical_accuracy: 0.6887 - val_loss: 0.7309 - val_sparse_categorical_accuracy: 0.6830\n",
            "Epoch 61/100\n",
            "50/50 [==============================] - 45s 902ms/step - loss: 0.7136 - sparse_categorical_accuracy: 0.6897 - val_loss: 0.7251 - val_sparse_categorical_accuracy: 0.6843\n",
            "Epoch 62/100\n",
            "50/50 [==============================] - 46s 920ms/step - loss: 0.7118 - sparse_categorical_accuracy: 0.6911 - val_loss: 0.7247 - val_sparse_categorical_accuracy: 0.6879\n",
            "Epoch 63/100\n",
            "50/50 [==============================] - 45s 910ms/step - loss: 0.7060 - sparse_categorical_accuracy: 0.6941 - val_loss: 0.7268 - val_sparse_categorical_accuracy: 0.6849\n",
            "Epoch 64/100\n",
            "50/50 [==============================] - 45s 909ms/step - loss: 0.7042 - sparse_categorical_accuracy: 0.6949 - val_loss: 0.7475 - val_sparse_categorical_accuracy: 0.6800\n",
            "Epoch 65/100\n",
            "50/50 [==============================] - 46s 916ms/step - loss: 0.7012 - sparse_categorical_accuracy: 0.6963 - val_loss: 0.7297 - val_sparse_categorical_accuracy: 0.6888\n",
            "Epoch 66/100\n",
            "50/50 [==============================] - 45s 900ms/step - loss: 0.6996 - sparse_categorical_accuracy: 0.6970 - val_loss: 0.7231 - val_sparse_categorical_accuracy: 0.6897\n",
            "Epoch 67/100\n",
            "50/50 [==============================] - 45s 894ms/step - loss: 0.7011 - sparse_categorical_accuracy: 0.6959 - val_loss: 0.7335 - val_sparse_categorical_accuracy: 0.6826\n",
            "Epoch 68/100\n",
            "50/50 [==============================] - 45s 893ms/step - loss: 0.6974 - sparse_categorical_accuracy: 0.6974 - val_loss: 0.7198 - val_sparse_categorical_accuracy: 0.6909\n",
            "Epoch 69/100\n",
            "50/50 [==============================] - 46s 916ms/step - loss: 0.7036 - sparse_categorical_accuracy: 0.6950 - val_loss: 0.7066 - val_sparse_categorical_accuracy: 0.6958\n",
            "Epoch 70/100\n",
            "50/50 [==============================] - 46s 918ms/step - loss: 0.6962 - sparse_categorical_accuracy: 0.6985 - val_loss: 0.7053 - val_sparse_categorical_accuracy: 0.6950\n",
            "Epoch 71/100\n",
            "50/50 [==============================] - 45s 902ms/step - loss: 0.6933 - sparse_categorical_accuracy: 0.6999 - val_loss: 0.7021 - val_sparse_categorical_accuracy: 0.6946\n",
            "Epoch 72/100\n",
            "50/50 [==============================] - 45s 898ms/step - loss: 0.6869 - sparse_categorical_accuracy: 0.7034 - val_loss: 0.7008 - val_sparse_categorical_accuracy: 0.7000\n",
            "Epoch 73/100\n",
            "50/50 [==============================] - 46s 915ms/step - loss: 0.6821 - sparse_categorical_accuracy: 0.7057 - val_loss: 0.6944 - val_sparse_categorical_accuracy: 0.7009\n",
            "Epoch 74/100\n",
            "50/50 [==============================] - 45s 906ms/step - loss: 0.6768 - sparse_categorical_accuracy: 0.7091 - val_loss: 0.6898 - val_sparse_categorical_accuracy: 0.7043\n",
            "Epoch 75/100\n",
            "50/50 [==============================] - 45s 901ms/step - loss: 0.6733 - sparse_categorical_accuracy: 0.7107 - val_loss: 0.6961 - val_sparse_categorical_accuracy: 0.7038\n",
            "Epoch 76/100\n",
            "50/50 [==============================] - 45s 897ms/step - loss: 0.6695 - sparse_categorical_accuracy: 0.7123 - val_loss: 0.6860 - val_sparse_categorical_accuracy: 0.7067\n",
            "Epoch 77/100\n",
            "50/50 [==============================] - 45s 899ms/step - loss: 0.6676 - sparse_categorical_accuracy: 0.7118 - val_loss: 0.6968 - val_sparse_categorical_accuracy: 0.7032\n",
            "Epoch 78/100\n",
            "50/50 [==============================] - 45s 903ms/step - loss: 0.6625 - sparse_categorical_accuracy: 0.7147 - val_loss: 0.6926 - val_sparse_categorical_accuracy: 0.7033\n",
            "Epoch 79/100\n",
            "50/50 [==============================] - 46s 922ms/step - loss: 0.6565 - sparse_categorical_accuracy: 0.7186 - val_loss: 0.6861 - val_sparse_categorical_accuracy: 0.7073\n",
            "Epoch 80/100\n",
            "50/50 [==============================] - 46s 916ms/step - loss: 0.6544 - sparse_categorical_accuracy: 0.7187 - val_loss: 0.6848 - val_sparse_categorical_accuracy: 0.7088\n",
            "Epoch 81/100\n",
            "50/50 [==============================] - 47s 941ms/step - loss: 0.6510 - sparse_categorical_accuracy: 0.7220 - val_loss: 0.6747 - val_sparse_categorical_accuracy: 0.7140\n",
            "Epoch 82/100\n",
            "50/50 [==============================] - 46s 922ms/step - loss: 0.6415 - sparse_categorical_accuracy: 0.7252 - val_loss: 0.6793 - val_sparse_categorical_accuracy: 0.7098\n",
            "Epoch 83/100\n",
            "50/50 [==============================] - 45s 903ms/step - loss: 0.6399 - sparse_categorical_accuracy: 0.7254 - val_loss: 0.6735 - val_sparse_categorical_accuracy: 0.7177\n",
            "Epoch 84/100\n",
            "50/50 [==============================] - 47s 943ms/step - loss: 0.6377 - sparse_categorical_accuracy: 0.7257 - val_loss: 0.6621 - val_sparse_categorical_accuracy: 0.7188\n",
            "Epoch 85/100\n",
            "50/50 [==============================] - 45s 902ms/step - loss: 0.6240 - sparse_categorical_accuracy: 0.7330 - val_loss: 0.6580 - val_sparse_categorical_accuracy: 0.7221\n",
            "Epoch 86/100\n",
            "50/50 [==============================] - 45s 911ms/step - loss: 0.6215 - sparse_categorical_accuracy: 0.7342 - val_loss: 0.6340 - val_sparse_categorical_accuracy: 0.7311\n",
            "Epoch 87/100\n",
            "50/50 [==============================] - 47s 950ms/step - loss: 0.6202 - sparse_categorical_accuracy: 0.7341 - val_loss: 0.6627 - val_sparse_categorical_accuracy: 0.7252\n",
            "Epoch 88/100\n",
            "50/50 [==============================] - 46s 914ms/step - loss: 0.6320 - sparse_categorical_accuracy: 0.7281 - val_loss: 0.6141 - val_sparse_categorical_accuracy: 0.7411\n",
            "Epoch 89/100\n",
            "50/50 [==============================] - 45s 909ms/step - loss: 0.6078 - sparse_categorical_accuracy: 0.7408 - val_loss: 0.6147 - val_sparse_categorical_accuracy: 0.7381\n",
            "Epoch 90/100\n",
            "50/50 [==============================] - 47s 938ms/step - loss: 0.6010 - sparse_categorical_accuracy: 0.7435 - val_loss: 0.6236 - val_sparse_categorical_accuracy: 0.7426\n",
            "Epoch 91/100\n",
            "50/50 [==============================] - 45s 905ms/step - loss: 0.5966 - sparse_categorical_accuracy: 0.7456 - val_loss: 0.5732 - val_sparse_categorical_accuracy: 0.7572\n",
            "Epoch 92/100\n",
            "50/50 [==============================] - 47s 942ms/step - loss: 0.5894 - sparse_categorical_accuracy: 0.7478 - val_loss: 0.5920 - val_sparse_categorical_accuracy: 0.7498\n",
            "Epoch 93/100\n",
            "50/50 [==============================] - 46s 916ms/step - loss: 0.5809 - sparse_categorical_accuracy: 0.7527 - val_loss: 0.5661 - val_sparse_categorical_accuracy: 0.7631\n",
            "Epoch 94/100\n",
            "50/50 [==============================] - 46s 918ms/step - loss: 0.5807 - sparse_categorical_accuracy: 0.7538 - val_loss: 0.5557 - val_sparse_categorical_accuracy: 0.7674\n",
            "Epoch 95/100\n",
            "50/50 [==============================] - 45s 900ms/step - loss: 0.5897 - sparse_categorical_accuracy: 0.7497 - val_loss: 0.5649 - val_sparse_categorical_accuracy: 0.7644\n",
            "Epoch 96/100\n",
            "50/50 [==============================] - 45s 907ms/step - loss: 0.5564 - sparse_categorical_accuracy: 0.7641 - val_loss: 0.5596 - val_sparse_categorical_accuracy: 0.7730\n",
            "Epoch 97/100\n",
            "50/50 [==============================] - 46s 913ms/step - loss: 0.5720 - sparse_categorical_accuracy: 0.7577 - val_loss: 0.5374 - val_sparse_categorical_accuracy: 0.7798\n",
            "Epoch 98/100\n",
            "50/50 [==============================] - 46s 918ms/step - loss: 0.5519 - sparse_categorical_accuracy: 0.7660 - val_loss: 0.5426 - val_sparse_categorical_accuracy: 0.7778\n",
            "Epoch 99/100\n",
            "50/50 [==============================] - 45s 908ms/step - loss: 0.5596 - sparse_categorical_accuracy: 0.7626 - val_loss: 0.5498 - val_sparse_categorical_accuracy: 0.7734\n",
            "Epoch 100/100\n",
            "50/50 [==============================] - 45s 904ms/step - loss: 0.5368 - sparse_categorical_accuracy: 0.7731 - val_loss: 0.5124 - val_sparse_categorical_accuracy: 0.7888\n"
          ]
        }
      ]
    },
    {
      "cell_type": "markdown",
      "source": [
        "Training and Validation Plots and Values"
      ],
      "metadata": {
        "id": "8xjsULqo-mTL"
      },
      "id": "8xjsULqo-mTL"
    },
    {
      "cell_type": "code",
      "source": [
        "print(history.history.keys())\n",
        "plt.plot(history.history['sparse_categorical_accuracy'])\n",
        "plt.plot(history.history['val_sparse_categorical_accuracy'])\n",
        "plt.title('model accuracy')\n",
        "plt.ylabel('accuracy')\n",
        "plt.xlabel('epoch')\n",
        "plt.legend(['train', 'val'], loc='upper left')\n",
        "plt.show()\n",
        "\n",
        "plt.plot(history.history['loss'])\n",
        "plt.plot(history.history['val_loss'])\n",
        "plt.title('model loss')\n",
        "plt.ylabel('loss')\n",
        "plt.xlabel('epoch')\n",
        "plt.legend(['train', 'val'], loc='upper left')\n",
        "plt.show()\n",
        "\n",
        "print(\"val accuracy: \")\n",
        "print(numpy.max(history.history['val_sparse_categorical_accuracy']))\n",
        "print(\"accuracy: \")\n",
        "print(numpy.max(history.history['sparse_categorical_accuracy']))\n",
        "print(\"val loss: \")\n",
        "print(numpy.min(history.history['val_loss']))\n",
        "print(\"train loss: \")\n",
        "print(numpy.min(history.history['loss']))"
      ],
      "metadata": {
        "id": "9RTRvXvYzscR",
        "colab": {
          "base_uri": "https://localhost:8080/",
          "height": 739
        },
        "outputId": "4172d8ca-6efd-4f8b-e40b-53d5862c30e8"
      },
      "id": "9RTRvXvYzscR",
      "execution_count": 13,
      "outputs": [
        {
          "output_type": "stream",
          "name": "stdout",
          "text": [
            "dict_keys(['loss', 'sparse_categorical_accuracy', 'val_loss', 'val_sparse_categorical_accuracy'])\n"
          ]
        },
        {
          "output_type": "display_data",
          "data": {
            "text/plain": [
              "<Figure size 432x288 with 1 Axes>"
            ],
            "image/png": "[encoded data removed]"
          },
          "metadata": {
            "needs_background": "light"
          }
        },
        {
          "output_type": "display_data",
          "data": {
            "text/plain": [
              "<Figure size 432x288 with 1 Axes>"
            ],
            "image/png": "[encoded data removed]"
          },
          "metadata": {
            "needs_background": "light"
          }
        },
        {
          "output_type": "stream",
          "name": "stdout",
          "text": [
            "val accuracy: \n",
            "0.7888348698616028\n",
            "accuracy: \n",
            "0.7731264233589172\n",
            "val loss: \n",
            "0.512377142906189\n",
            "train loss: \n",
            "0.5368317365646362\n"
          ]
        }
      ]
    },
    {
      "cell_type": "markdown",
      "source": [
        "Test Loss and Accuracy"
      ],
      "metadata": {
        "id": "h1oWF1MV-xti"
      },
      "id": "h1oWF1MV-xti"
    },
    {
      "cell_type": "code",
      "source": [
        "loss,accuracy = model.evaluate(test_data)\n",
        "print(\"Loss: \"+str(loss))\n",
        "print(\"Accuracy: \"+str(accuracy))"
      ],
      "metadata": {
        "id": "BJOTGpkCzsX5",
        "colab": {
          "base_uri": "https://localhost:8080/"
        },
        "outputId": "f27a550d-490d-4c98-a9d6-9d51078cb2ab"
      },
      "id": "BJOTGpkCzsX5",
      "execution_count": 14,
      "outputs": [
        {
          "output_type": "stream",
          "name": "stdout",
          "text": [
            "286/286 [==============================] - 61s 213ms/step - loss: 0.7592 - sparse_categorical_accuracy: 0.6840\n",
            "Loss: 0.7592283487319946\n",
            "Accuracy: 0.6839936375617981\n"
          ]
        }
      ]
    },
    {
      "cell_type": "code",
      "source": [
        "def predictConv(NumpArray):\n",
        "  FourierTransf = tf.math.abs(tf.signal.stft(NumpArray,64,32))\n",
        "  input = (np.array([NumpArray.shape[0]]),np.array([FourierTransf]))\n",
        "  prev = model.predict(input)\n",
        "  return prev\n",
        "filename = \"49631_AV_sigTarg.npy\"\n",
        "#filename = \"50807_PV_sigTarg.npy\"\n",
        "print(dirteste)\n",
        "read = np.load(dirteste+filename)\n",
        "atributos = read[0]\n",
        "print(\"Atributos\"+str(atributos))\n",
        "\n",
        "predic = predictConv(atributos)\n",
        "print(predic)\n",
        "previsaoArgMax=tf.argmax(predic,axis=-1)\n",
        "print(previsaoArgMax)"
      ],
      "metadata": {
        "id": "Aohj9VV_zsUw"
      },
      "id": "Aohj9VV_zsUw",
      "execution_count": null,
      "outputs": []
    },
    {
      "cell_type": "code",
      "source": [
        "plt.plot(previsaoArgMax[0][:10000])\n",
        "plt.plot(atributos[0:10000]/3000)\n",
        "plt.show()"
      ],
      "metadata": {
        "id": "eiIdDcn1zsQZ"
      },
      "id": "eiIdDcn1zsQZ",
      "execution_count": null,
      "outputs": []
    },
    {
      "cell_type": "code",
      "source": [
        "plt.plot(previsaoArgMax[0][:4000])\n",
        "plt.plot(atributos[0:4000]/3000)\n",
        "plt.show()"
      ],
      "metadata": {
        "id": "fDr3PcUOPUr8",
        "colab": {
          "base_uri": "https://localhost:8080/",
          "height": 265
        },
        "outputId": "e80ccfed-5814-4ce9-c934-a95f06e2ca9c"
      },
      "id": "fDr3PcUOPUr8",
      "execution_count": 17,
      "outputs": [
        {
          "data": {
            "image/png": "[encoded data removed]",
            "text/plain": [
              "<Figure size 432x288 with 1 Axes>"
            ]
          },
          "metadata": {},
          "output_type": "display_data"
        }
      ]
    }
  ],
  "metadata": {
    "accelerator": "GPU",
    "colab": {
      "collapsed_sections": [],
      "name": "ADNE_FINAL_PROJECT_.ipynb",
      "provenance": []
    },
    "kernelspec": {
      "display_name": "Python 3 (ipykernel)",
      "language": "python",
      "name": "python3"
    },
    "language_info": {
      "codemirror_mode": {
        "name": "ipython",
        "version": 3
      },
      "file_extension": ".py",
      "mimetype": "text/x-python",
      "name": "python",
      "nbconvert_exporter": "python",
      "pygments_lexer": "ipython3",
      "version": "3.9.2"
    }
  },
  "nbformat": 4,
  "nbformat_minor": 5
}